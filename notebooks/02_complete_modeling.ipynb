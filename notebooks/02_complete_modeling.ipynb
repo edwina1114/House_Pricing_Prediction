{
 "cells": [
  {
   "cell_type": "code",
   "execution_count": null,
   "id": "c42d70e1",
   "metadata": {},
   "outputs": [],
   "source": [
    "import numpy as np\n",
    "import pandas as pd\n",
    "import time\n",
    "\n",
    "# Visualization Libraries\n",
    "import matplotlib.pyplot as plt\n",
    "import seaborn as sns\n",
    "import plotly as px\n",
    "import plotly.graph_objects as go\n",
    "from plotly.subplots import make_subplots\n",
    "\n",
    "# Scikit-learn: Model Selection and Evaluation\n",
    "from sklearn.model_selection import train_test_split, GridSearchCV, cross_validate, cross_val_score\n",
    "from sklearn.metrics import r2_score\n",
    "from sklearn.metrics import mean_absolute_error\n",
    "\n",
    "# Scikit-learn: Preprocessing\n",
    "from sklearn.base import BaseEstimator, TransformerMixin\n",
    "from sklearn.preprocessing import StandardScaler, OneHotEncoder, OrdinalEncoder\n",
    "from sklearn.impute import SimpleImputer\n",
    "\n",
    "# Scikit-learn: Pipeline and Composition\n",
    "from sklearn.pipeline import Pipeline\n",
    "from sklearn.compose import ColumnTransformer, TransformedTargetRegressor\n",
    "\n",
    "# Scikit-learn: Models\n",
    "from sklearn.ensemble import RandomForestRegressor\n",
    "from sklearn.linear_model import LinearRegression, Ridge, RidgeCV, Lasso, LassoCV\n",
    "import xgboost as xgb\n",
    "\n",
    "# Scikit-learn: Feature Selection\n",
    "from sklearn.feature_selection import SelectFromModel"
   ]
  },
  {
   "cell_type": "code",
   "execution_count": 4,
   "id": "8c43f0ea",
   "metadata": {},
   "outputs": [],
   "source": [
    "train_full_raw = pd.read_csv('/Users/edwina/Desktop/House_Pricing_Prediction/data/train.csv', index_col='Id')\n",
    "train_full = train_full_raw.copy()"
   ]
  },
  {
   "cell_type": "markdown",
   "id": "62220327",
   "metadata": {},
   "source": [
    "# Select Target Variable"
   ]
  },
  {
   "cell_type": "code",
   "execution_count": 5,
   "id": "d051eb26",
   "metadata": {},
   "outputs": [
    {
     "name": "stdout",
     "output_type": "stream",
     "text": [
      "Numbers of missing values for target variable: 0 out of 1460 rows.\n"
     ]
    }
   ],
   "source": [
    "target_missing = train_full['SalePrice'].isnull().sum()\n",
    "print(f\"Numbers of missing values for target variable: {target_missing} out of {len(train_full)} rows.\")\n",
    "\n",
    "if target_missing > 0:\n",
    "    train_full.dropna(axis=0, subset=['SalePrice'], inplace=True)\n",
    "\n",
    "y = train_full['SalePrice'].copy()\n",
    "X = train_full.drop(['SalePrice'], axis=1)"
   ]
  },
  {
   "cell_type": "markdown",
   "id": "b948f63d",
   "metadata": {},
   "source": [
    "# Preprocessing"
   ]
  },
  {
   "cell_type": "markdown",
   "id": "c142db9d",
   "metadata": {},
   "source": [
    "## Break off validation set from training data"
   ]
  },
  {
   "cell_type": "code",
   "execution_count": 6,
   "id": "62db682d",
   "metadata": {},
   "outputs": [
    {
     "name": "stdout",
     "output_type": "stream",
     "text": [
      "Size of Train data = ((1168, 79), (1168,))\n",
      "Size of Validation data = ((292, 79), (292,))\n"
     ]
    }
   ],
   "source": [
    "X_train, X_valid, y_train, y_valid = train_test_split(\n",
    "    X, y, \n",
    "    test_size=0.2, \n",
    "    random_state=42\n",
    ")\n",
    "\n",
    "print(f\"Size of Train data = {X_train.shape, y_train.shape}\")\n",
    "print(f\"Size of Validation data = {X_valid.shape, y_valid.shape}\")"
   ]
  },
  {
   "cell_type": "markdown",
   "id": "094b9ef1",
   "metadata": {},
   "source": [
    "## Seperate Columns for Different Transformers"
   ]
  },
  {
   "cell_type": "code",
   "execution_count": 7,
   "id": "f59ed61d",
   "metadata": {},
   "outputs": [],
   "source": [
    "raw_cat_cols = X.select_dtypes(include='object').columns.tolist()\n",
    "raw_num_cols = X.select_dtypes(include=['int64', 'float64']).columns.tolist()\n",
    "\n",
    "exception_cols = ['Id']\n",
    "quality_cols = ['PoolQC', 'FireplaceQu', 'MasVnrType']\n",
    "presence_cols = ['Fence', 'Alley', 'MiscFeature']\n",
    "high_cardinality_col = ['Neighborhood', 'Exterior2nd', 'Exterior1st']\n",
    "exclude_cols = set(exception_cols + quality_cols + presence_cols + high_cardinality_col)\n",
    "\n",
    "remain_categorical_cols = [col for col in raw_cat_cols if col not in exclude_cols]\n",
    "remain_numerical_cols = [col for col in raw_num_cols if col not in exclude_cols]"
   ]
  },
  {
   "cell_type": "markdown",
   "id": "1a0bd967",
   "metadata": {},
   "source": [
    "## Designed Transformers (Based on EDA)"
   ]
  },
  {
   "cell_type": "markdown",
   "id": "88507be2",
   "metadata": {},
   "source": [
    "### Features with Quality Levels Transformer \n",
    "\n",
    "- Apply Imputation + Ordinal Encoding + Binary Indicator (HasPool, HasMasonryVeneer, HasFireplace)\n",
    "\n",
    "- Used for features of `PoolQC`, `MasVnrType`, `FireplaceQu`"
   ]
  },
  {
   "cell_type": "code",
   "execution_count": 8,
   "id": "d931158b",
   "metadata": {},
   "outputs": [],
   "source": [
    "CATEGORY_ORDER = {\n",
    "    'PoolQC': ['None', 'Fa', 'Gd', 'Ex'],\n",
    "    'FireplaceQu': ['None', 'Po', 'Fa', 'TA', 'Gd', 'Ex'],\n",
    "    'MasVnrType': ['CBlock', 'BrkCmn', 'None', 'BrkC', 'BrkFace', 'Stone']\n",
    "}\n",
    "\n",
    "class QualityTransformer(BaseEstimator, TransformerMixin):\n",
    "    def __init__(self, columns=None, category_order_dict = CATEGORY_ORDER):\n",
    "        self.columns = columns\n",
    "        self.category_order_dict = category_order_dict\n",
    "        self.encoders = {}\n",
    "\n",
    "    def fit(self, X, y=None):\n",
    "        for col in self.columns:\n",
    "            if col in X.columns:\n",
    "                categories = [self.category_order_dict[col]]\n",
    "                oe = OrdinalEncoder(\n",
    "                    categories=categories,\n",
    "                    handle_unknown=\"use_encoded_value\",\n",
    "                    unknown_value=-1,\n",
    "                )\n",
    "                oe.fit(X[[col]].fillna(\"None\"))\n",
    "                self.encoders[col] = oe\n",
    "            else:\n",
    "                print(f\"Warning： {col} does not exist in the DataFrame. Skipping this column.\")\n",
    "        return self\n",
    "\n",
    "    def transform(self, X):\n",
    "        X_ = X.copy()\n",
    "\n",
    "        for col in self.columns:\n",
    "            if col in self.encoders:\n",
    "                col_filled = X_[[col]].fillna(\"None\")\n",
    "\n",
    "                # Ordinal Encoding\n",
    "                encoded = self.encoders[col].transform(col_filled)\n",
    "                X_[col] = encoded.flatten()\n",
    "\n",
    "                # Binary Presence Feature\n",
    "                X_[f\"Has{col}\"] = (col_filled.iloc[:, 0] != \"None\").astype(int)\n",
    "\n",
    "        return X_.reset_index(drop=True)\n",
    "\n",
    "    def get_feature_names_out(self, input_features=None):\n",
    "        processed_cols = [col for col in self.columns if col in self.encoders]\n",
    "        return np.array(processed_cols + [f\"Has{col}\" for col in processed_cols])\n"
   ]
  },
  {
   "cell_type": "markdown",
   "id": "781dc234",
   "metadata": {},
   "source": [
    "### Features with Sparse Categories Transformer \n",
    "\n",
    "- Apply Imputation + Binary Indicator (HasMiscFeature, HasAlley, HasFence)\n",
    "\n",
    "- Used for features of `MiscFeature`, `Alley`, `Fence`"
   ]
  },
  {
   "cell_type": "code",
   "execution_count": 9,
   "id": "7f9feac0",
   "metadata": {},
   "outputs": [],
   "source": [
    "class PresenceOnlyTransformer(BaseEstimator, TransformerMixin):\n",
    "    def __init__(self, columns=None):\n",
    "        self.columns = columns\n",
    "\n",
    "    def fit(self, X, y=None):\n",
    "        if self.columns is None:\n",
    "            self.columns = list(X.columns)\n",
    "        return self\n",
    "\n",
    "    def transform(self, X):\n",
    "        X_ = X.copy()\n",
    "        for col in self.columns:\n",
    "            if col in X_.columns:\n",
    "                col_filled = X_[col].fillna(\"None\")\n",
    "                X_[f\"Has{col}\"] = (col_filled != \"None\").astype(int)\n",
    "\n",
    "        existing_has_cols = [f\"Has{col}\" for col in self.columns if col in X.columns]\n",
    "        return X_[existing_has_cols]\n",
    "\n",
    "    def get_feature_names_out(self, input_features=None):\n",
    "        return np.array([f\"Has{col}\" for col in self.columns])"
   ]
  },
  {
   "cell_type": "markdown",
   "id": "809d460c",
   "metadata": {},
   "source": [
    "### Frequency Encode Transformer for High Cardinality Features\n",
    "\n",
    "- Used for features of `Neighborhood`, `Exterior2nd`, `Exterior1st`"
   ]
  },
  {
   "cell_type": "code",
   "execution_count": 10,
   "id": "c221d0ab",
   "metadata": {},
   "outputs": [],
   "source": [
    "class FrequencyEncodeTransformer(BaseEstimator, TransformerMixin):\n",
    "    def __init__(self, columns=None):\n",
    "        self.columns = columns\n",
    "        self.freq_maps = {}\n",
    "\n",
    "    def fit(self, X, y=None):\n",
    "        if self.columns is None:\n",
    "            self.columns = list(X.columns)\n",
    "            \n",
    "        for col in self.columns:\n",
    "            self.freq_maps[col] = X[col].value_counts(normalize=True)\n",
    "        return self\n",
    "\n",
    "    def transform(self, X):\n",
    "        X_ = X.copy()\n",
    "        for col in self.columns:\n",
    "            X_[col] = X_[col].map(self.freq_maps[col]).fillna(0)\n",
    "        return X_[self.columns]\n",
    "\n",
    "    def get_feature_names_out(self, input_features=None):\n",
    "        return np.array(self.columns)\n"
   ]
  },
  {
   "cell_type": "markdown",
   "id": "6b40c3ee",
   "metadata": {},
   "source": [
    "## Pipeline"
   ]
  },
  {
   "cell_type": "code",
   "execution_count": null,
   "id": "a2759b48",
   "metadata": {},
   "outputs": [],
   "source": [
    "# Preprocessing for numerical data\n",
    "numerical_transformer = Pipeline(steps=[\n",
    "    ('imputer', SimpleImputer(strategy='mean')),  \n",
    "    ('scaler', StandardScaler())])\n",
    "\n",
    "# Preprocessing for categorical data \n",
    "categorical_transformer = Pipeline(steps=[\n",
    "    ('imputer', SimpleImputer(strategy='most_frequent')),  \n",
    "    ('onehot', OneHotEncoder(handle_unknown='ignore', sparse_output=False))\n",
    "])\n",
    "\n",
    "# Bundle preprocessing transformers\n",
    "preprocessor = ColumnTransformer(transformers=[\n",
    "    ('num', numerical_transformer, remain_numerical_cols),\n",
    "    ('cat', categorical_transformer, remain_categorical_cols),\n",
    "    ('quality', QualityTransformer(columns=quality_cols), quality_cols),  # 直接使用\n",
    "    ('presence', PresenceOnlyTransformer(columns=presence_cols), presence_cols),  # 直接使用\n",
    "    ('high_card', FrequencyEncodeTransformer(columns=high_cardinality_col), high_cardinality_col)  # 直接使用\n",
    "])"
   ]
  },
  {
   "cell_type": "code",
   "execution_count": 12,
   "id": "385fc541",
   "metadata": {},
   "outputs": [
    {
     "name": "stdout",
     "output_type": "stream",
     "text": [
      "Original number of features: 79\n",
      "Number of features after transformation: 220\n",
      "Total number of samples: 1168\n"
     ]
    }
   ],
   "source": [
    "# Test the preprocessor\n",
    "X_train_transformed = preprocessor.fit_transform(X_train)\n",
    "print(f\"Original number of features: {X_train.shape[1]}\")\n",
    "print(f\"Number of features after transformation: {X_train_transformed.shape[1]}\")\n",
    "print(f\"Total number of samples: {X_train_transformed.shape[0]}\")"
   ]
  },
  {
   "cell_type": "markdown",
   "id": "3393c9ba",
   "metadata": {},
   "source": [
    "# Base Model (Random Forest Regressor)"
   ]
  },
  {
   "cell_type": "code",
   "execution_count": 13,
   "id": "ec17458c",
   "metadata": {},
   "outputs": [
    {
     "name": "stdout",
     "output_type": "stream",
     "text": [
      "=== Base Model ===\n",
      "Base RF MAE - Train: 17268, Valid: 20899\n"
     ]
    }
   ],
   "source": [
    "# Base Model (Fast Validation)\n",
    "print(\"=== Base Model ===\")\n",
    "base_model = RandomForestRegressor(    \n",
    "    n_estimators=100,          \n",
    "    max_depth=5,              \n",
    "    min_samples_split=30,      \n",
    "    max_features=0.3,          \n",
    "    random_state=42\n",
    ")\n",
    "pipeline = Pipeline([\n",
    "    ('preprocessor', preprocessor),\n",
    "    ('model', base_model)\n",
    "])\n",
    "model_with_log_target = TransformedTargetRegressor(\n",
    "    regressor=pipeline,\n",
    "    func=np.log1p,\n",
    "    inverse_func=np.expm1\n",
    ")\n",
    "model_with_log_target.fit(X_train, y_train)\n",
    "\n",
    "train_preds = model_with_log_target.predict(X_train)\n",
    "valid_preds = model_with_log_target.predict(X_valid)\n",
    "train_mae = mean_absolute_error(y_train, train_preds)\n",
    "valid_mae = mean_absolute_error(y_valid, valid_preds)\n",
    "\n",
    "print(f\"Base RF MAE - Train: {train_mae:.0f}, Valid: {valid_mae:.0f}\")"
   ]
  },
  {
   "cell_type": "markdown",
   "id": "eb87f427",
   "metadata": {},
   "source": [
    "# Comprehensive Model Comparison"
   ]
  },
  {
   "cell_type": "markdown",
   "id": "a5d49c96",
   "metadata": {},
   "source": [
    "### Functions of Model Comparison"
   ]
  },
  {
   "cell_type": "code",
   "execution_count": 14,
   "id": "a3130817",
   "metadata": {},
   "outputs": [],
   "source": [
    "# =============================================================================\n",
    "# # Models and hyperparameters\n",
    "# =============================================================================\n",
    "\n",
    "def get_models():\n",
    "    models = {\n",
    "        'Linear Regression': {\n",
    "            'model': LinearRegression(),\n",
    "            'param_grid': {},\n",
    "            'color': '#1f77b4' \n",
    "        },\n",
    "\n",
    "        'Ridge': {\n",
    "            'model': Ridge(random_state=42),\n",
    "            'param_grid': {\n",
    "                'regressor__model__max_iter': [500, 1000, 1500, 2000], \n",
    "                'regressor__model__alpha': [1.0, 10.0, 50.0, 100.0, 500.0]  \n",
    "            },\n",
    "            'color': \"#f26c6c\"\n",
    "        },\n",
    "\n",
    "        'Lasso': {\n",
    "            'model': Lasso(random_state=42),\n",
    "            'param_grid': {\n",
    "                'regressor__model__max_iter': [500, 1000, 1500, 2000], \n",
    "                'regressor__model__alpha': [0.001, 0.01, 0.1, 0.5, 1.0] \n",
    "            },\n",
    "            'color': \"#dfc73f\"\n",
    "        },\n",
    "\n",
    "        'Random Forest': {\n",
    "            'model': RandomForestRegressor(random_state=42),\n",
    "            'param_grid': {\n",
    "                'regressor__model__n_estimators': [200],      \n",
    "                'regressor__model__max_depth': [5, 7],           \n",
    "                'regressor__model__min_samples_split': [40, 60], \n",
    "                'regressor__model__min_samples_leaf': [10, 20],     \n",
    "                'regressor__model__max_features': [0.2, 0.3]\n",
    "            },\n",
    "            'color': \"#70ab27\" \n",
    "        },\n",
    "        \n",
    "        'XGBoost': {\n",
    "            'model': xgb.XGBRegressor(random_state=42, eval_metric='rmse'),\n",
    "            'param_grid': {\n",
    "                'regressor__model__n_estimators': [200],      \n",
    "                'regressor__model__learning_rate': [0.03],   \n",
    "                'regressor__model__max_depth': [3],              \n",
    "                'regressor__model__subsample': [0.7],           \n",
    "                'regressor__model__colsample_bytree': [0.4],   \n",
    "                'regressor__model__reg_lambda': [50.0],      \n",
    "                'regressor__model__min_child_weight': [10]\n",
    "            },\n",
    "            'color': \"#461989\" \n",
    "        }\n",
    "    }\n",
    "    \n",
    "    return models\n",
    "\n",
    "# =============================================================================\n",
    "# # Models Comparison\n",
    "# =============================================================================\n",
    "\n",
    "def model_comparison(X_train, y_train, X_valid, y_valid, preprocessor):\n",
    "    print(\"Start to Model Comparison ...\")\n",
    "    \n",
    "    models_info = get_models()\n",
    "    results = []\n",
    "    \n",
    "    selected_models = list(models_info.keys())\n",
    "    \n",
    "    for model_name in selected_models:\n",
    "        print(f\"\\n--- Training {model_name} ---\")\n",
    "        \n",
    "        model_info = models_info[model_name]\n",
    "        start_time = time.time()\n",
    "        \n",
    "        try:\n",
    "            pipeline = Pipeline([\n",
    "                ('preprocessor', preprocessor),\n",
    "                ('model', model_info['model'])  # model step 要命名為 'model'\n",
    "            ])\n",
    "            \n",
    "            model_with_log = TransformedTargetRegressor(\n",
    "                    regressor=pipeline,\n",
    "                    func=np.log1p,\n",
    "                    inverse_func=np.expm1\n",
    "                )\n",
    "            \n",
    "            grid_search = GridSearchCV(\n",
    "                    model_with_log,\n",
    "                    model_info['param_grid'],\n",
    "                    cv=5,  \n",
    "                    scoring='neg_mean_absolute_error',\n",
    "                    n_jobs=-1\n",
    "                )\n",
    "                \n",
    "            grid_search.fit(X_train, y_train)\n",
    "            cv_score = -grid_search.best_score_\n",
    "\n",
    "            best_model = grid_search.best_estimator_\n",
    "            best_params = grid_search.best_params_\n",
    "            \n",
    "            # Predictions and evaluation\n",
    "            train_preds = best_model.predict(X_train)\n",
    "            valid_preds = best_model.predict(X_valid)\n",
    "            \n",
    "            train_mae = mean_absolute_error(y_train, train_preds)\n",
    "            valid_mae = mean_absolute_error(y_valid, valid_preds)\n",
    "\n",
    "            train_r2 = r2_score(y_train, train_preds)\n",
    "            valid_r2 = r2_score(y_valid, valid_preds)\n",
    "            \n",
    "            gap_pct = ((valid_mae - train_mae) / train_mae) * 100\n",
    "            training_time = time.time() - start_time\n",
    "            \n",
    "            result = {\n",
    "                'Model': model_name,\n",
    "                'Residuals': y_valid - valid_preds,\n",
    "                'Train_MAE': train_mae,\n",
    "                'Valid_MAE': valid_mae,\n",
    "                'Train_R2': train_r2,\n",
    "                'Valid_R2': valid_r2,\n",
    "                'Overfitting_Gap_%': gap_pct,\n",
    "                'CV_MAE': cv_score,\n",
    "                'Training_Time_s': training_time,\n",
    "                'Best_Params': best_params,\n",
    "                'Best_Model': best_model,\n",
    "                'color': model_info['color'],\n",
    "                'Numbers_of_features': preprocessor.transform(X_train).shape[1]\n",
    "            }\n",
    "            \n",
    "            results.append(result)\n",
    "            \n",
    "            print(f\"✅ {model_name} Finisihed Training\") \n",
    "            print(f\"   Param grid: {best_params}\")\n",
    "            print(f\"   Valid MAE: {valid_mae:.0f}\")\n",
    "            print(f\"   Valid R²: {valid_r2:.3f}\")\n",
    "            print(f\"   Time: {training_time:.1f}s\")\n",
    "            \n",
    "        except Exception as e:\n",
    "            print(f\"❌ {model_name} 失敗: {str(e)}\")\n",
    "            continue\n",
    "    \n",
    "    return results, models_info\n",
    "\n",
    "# =============================================================================\n",
    "# Analyze Model Results\n",
    "# =============================================================================\n",
    "\n",
    "def analyze_model_results(results):    \n",
    "    print(f\"\\n\" + \"=\"*80)\n",
    "    print(\"📊 Model Evaluation Results\")\n",
    "    print(\"=\"*80)\n",
    "    \n",
    "    df_results = pd.DataFrame(results)\n",
    "    df_results = df_results.sort_values('Valid_MAE')\n",
    "    \n",
    "    # Add score based on validation MAE and overfitting gap\n",
    "    df_results['Score'] = df_results['Valid_MAE'] * (1 + df_results['Overfitting_Gap_%'] / 100)\n",
    "\n",
    "    # Find the best model based on Score\n",
    "    best_model_idx = df_results['Score'].idxmin()\n",
    "    best_model_name = df_results.loc[best_model_idx, 'Model']\n",
    "    best_mae = df_results.loc[best_model_idx, 'Valid_MAE']\n",
    "    best_r2 = df_results.loc[best_model_idx, 'Valid_R2']\n",
    "\n",
    "    best_result = results[best_model_idx]\n",
    "    best_estimator = best_result['Best_Model']\n",
    "    best_params = best_result['Best_Params']\n",
    "    \n",
    "    print(f\"\\n🎯 最佳模型: {best_model_name}\")\n",
    "    print(f\"   MAE: {best_mae:.0f}\")\n",
    "    print(f\"   R²: {best_r2:.3f}\")\n",
    "\n",
    "    return df_results, best_estimator, best_params\n"
   ]
  },
  {
   "cell_type": "markdown",
   "id": "71f9e243",
   "metadata": {},
   "source": [
    "### Functions of Visualize Model Results"
   ]
  },
  {
   "cell_type": "code",
   "execution_count": 24,
   "id": "fd3c69ab",
   "metadata": {},
   "outputs": [],
   "source": [
    "def create_comparison_plots(df_results):\n",
    "    colors = df_results['color'].tolist()\n",
    "    \n",
    "    fig = make_subplots(\n",
    "       rows=2, cols=2,\n",
    "       subplot_titles=('Validation MAE Comparison', 'Validation R² Comparison', \n",
    "                      'Overfitting Analysis', 'Performance vs Training Time'),\n",
    "       specs=[[{\"secondary_y\": False}, {\"secondary_y\": False}],\n",
    "              [{\"secondary_y\": False}, {\"secondary_y\": False}]]\n",
    "   )\n",
    "\n",
    "    # 1. MAE Comparison\n",
    "    fig.add_trace(\n",
    "        go.Bar(x=df_results['Model'], y=df_results['Valid_MAE'], \n",
    "                marker_color=colors, name='Valid MAE', showlegend=False),\n",
    "        row=1, col=1\n",
    "    )\n",
    "    \n",
    "    # 2. R² Comparison\n",
    "    fig.add_trace(\n",
    "        go.Bar(x=df_results['Model'], y=df_results['Valid_R2'], \n",
    "                marker_color=colors, name='Valid R²', showlegend=False),\n",
    "        row=1, col=2\n",
    "    )\n",
    "    \n",
    "    # 3. Overfitting Analysis\n",
    "    fig.add_trace(\n",
    "        go.Bar(x=df_results['Model'], y=df_results['Overfitting_Gap_%'], \n",
    "                marker_color=colors, name='Overfitting Gap', showlegend=False),\n",
    "        row=2, col=1\n",
    "    )\n",
    "    \n",
    "    # threshold lines for overfitting\n",
    "    fig.add_hline(y=15, line_dash=\"dash\", line_color=\"orange\", \n",
    "                    annotation_text=\"Acceptable (15%)\", row=2, col=1)\n",
    "    fig.add_hline(y=25, line_dash=\"dash\", line_color=\"red\", \n",
    "                    annotation_text=\"Problematic (25%)\", row=2, col=1)\n",
    "    \n",
    "    # 4. Performance vs Training Time\n",
    "    fig.add_trace(\n",
    "    go.Scatter(x=df_results['Training_Time_s'], y=df_results['Valid_MAE'],\n",
    "               mode='markers',  # 只顯示點，不顯示文字\n",
    "               marker=dict(color=colors, size=15, opacity=0.8),  # 稍微增大點的大小\n",
    "               text=df_results['Model'],  # 模型名稱\n",
    "               customdata=df_results[['Train_R2', 'Valid_R2', 'Overfitting_Gap_%']],  # 額外資訊\n",
    "               hovertemplate='<b>%{text}</b><br>' +\n",
    "                           'Training Time: %{x:.1f} seconds<br>' +\n",
    "                           'Validation MAE: %{y:.0f}<br>' +\n",
    "                           'Train R²: %{customdata[0]:.3f}<br>' +\n",
    "                           'Valid R²: %{customdata[1]:.3f}<br>' +\n",
    "                           'Overfitting Gap: %{customdata[2]:.1f}%<br>' +\n",
    "                           '<extra></extra>',  # 移除預設的 trace 名稱框\n",
    "               name='Models', showlegend=False),\n",
    "    row=2, col=2\n",
    ")\n",
    "    \n",
    "    fig.update_layout(\n",
    "        height=1200, width=1200,\n",
    "        title_text=\"Model Comparison Results\",\n",
    "        showlegend=False\n",
    "    )\n",
    "    \n",
    "    fig.update_xaxes(title_text=\"Model\", row=1, col=1)\n",
    "    fig.update_yaxes(title_text=\"MAE\", row=1, col=1)\n",
    "    \n",
    "    fig.update_xaxes(title_text=\"Model\", row=1, col=2)\n",
    "    fig.update_yaxes(title_text=\"R²\", row=1, col=2)\n",
    "    \n",
    "    fig.update_xaxes(title_text=\"Model\", row=2, col=1)\n",
    "    fig.update_yaxes(title_text=\"Overfitting Gap (%)\", row=2, col=1)\n",
    "    \n",
    "    fig.update_xaxes(title_text=\"Training Time (seconds)\", row=2, col=2)\n",
    "    fig.update_yaxes(title_text=\"Validation MAE\", row=2, col=2)\n",
    "    \n",
    "    fig.write_image(\"../images/Model/model_comparison_results.png\", scale=2)\n",
    "    fig.show()\n",
    "\n",
    "\n",
    "def plot_train_vs_valid_residuals(results, X_train, X_valid, y_train, y_valid):    \n",
    "    n_models = len(results)\n",
    "    fig, axes = plt.subplots(n_models, 2, figsize=(16, 4*n_models))\n",
    "    \n",
    "    # if only one model, reshape axes to 1 row\n",
    "    if n_models == 1:\n",
    "        axes = axes.reshape(1, -1)\n",
    "    \n",
    "    for i, result in enumerate(results):\n",
    "        model_name = result['Model']\n",
    "        best_model = result['Best_Model']\n",
    "        \n",
    "        # train and validation predictions\n",
    "        train_preds = best_model.predict(X_train)\n",
    "        valid_preds = best_model.predict(X_valid)\n",
    "        \n",
    "        # calculate residuals\n",
    "        train_residuals = y_train - train_preds\n",
    "        valid_residuals = y_valid - valid_preds\n",
    "        \n",
    "        # Left plot: Residuals distribution\n",
    "        axes[i, 0].hist(train_residuals, bins=50, alpha=0.7, label='Train', density=True, color='blue')\n",
    "        axes[i, 0].hist(valid_residuals, bins=50, alpha=0.7, label='Valid', density=True, color='red')\n",
    "        axes[i, 0].axvline(0, color='black', linestyle='--', alpha=0.8)\n",
    "        axes[i, 0].set_title(f'{model_name}: Residual Distribution')\n",
    "        axes[i, 0].set_xlabel('Residuals')\n",
    "        axes[i, 0].set_ylabel('Density')\n",
    "        axes[i, 0].legend()\n",
    "        axes[i, 0].grid(True, alpha=0.3)\n",
    "        \n",
    "        train_std = np.std(train_residuals)\n",
    "        valid_std = np.std(valid_residuals)\n",
    "        train_mean = np.mean(train_residuals)\n",
    "        valid_mean = np.mean(valid_residuals)\n",
    "        \n",
    "        axes[i, 0].text(0.02, 0.95, \n",
    "                       f'Train: μ={train_mean:.0f}, σ={train_std:.0f}\\nValid: μ={valid_mean:.0f}, σ={valid_std:.0f}', \n",
    "                       transform=axes[i, 0].transAxes, verticalalignment='top',\n",
    "                       bbox=dict(boxstyle='round', facecolor='white', alpha=0.8))\n",
    "        \n",
    "        # Right plot: Predicted vs Actual\n",
    "        min_val = min(y_train.min(), y_valid.min(), train_preds.min(), valid_preds.min())\n",
    "        max_val = max(y_train.max(), y_valid.max(), train_preds.max(), valid_preds.max())\n",
    "        \n",
    "        axes[i, 1].scatter(y_train, train_preds, alpha=0.6, label='Train', color='blue', s=20)\n",
    "        axes[i, 1].scatter(y_valid, valid_preds, alpha=0.6, label='Valid', color='red', s=20)\n",
    "        axes[i, 1].plot([min_val, max_val], [min_val, max_val], 'k--', alpha=0.8, label='Perfect Prediction')\n",
    "        axes[i, 1].set_title(f'{model_name}: Predicted vs Actual')\n",
    "        axes[i, 1].set_xlabel('Actual Values')\n",
    "        axes[i, 1].set_ylabel('Predicted Values')\n",
    "        axes[i, 1].legend()\n",
    "        axes[i, 1].grid(True, alpha=0.3)\n",
    "        \n",
    "        train_r2 = result['Train_R2']\n",
    "        valid_r2 = result['Valid_R2']\n",
    "        axes[i, 1].text(0.02, 0.95, \n",
    "                       f'Train R²: {train_r2:.3f}\\nValid R²: {valid_r2:.3f}', \n",
    "                       transform=axes[i, 1].transAxes, verticalalignment='top',\n",
    "                       bbox=dict(boxstyle='round', facecolor='white', alpha=0.8))\n",
    "    \n",
    "    fig.tight_layout()\n",
    "    fig.savefig(\"../images/Model/residuals_vs_predicted_comparison_across_models.png\")\n",
    "    \n",
    "    import os\n",
    "    from datetime import datetime\n",
    "\n",
    "    print(f\"Last modified time: {datetime.fromtimestamp(os.path.getmtime('../images/Model/residuals_vs_predicted_comparison_across_models.png'))}\")\n",
    "\n",
    "    fig.show()"
   ]
  },
  {
   "cell_type": "code",
   "execution_count": 16,
   "id": "f67b11cf",
   "metadata": {},
   "outputs": [
    {
     "name": "stdout",
     "output_type": "stream",
     "text": [
      "Start to Model Comparison ...\n",
      "\n",
      "--- Training Linear Regression ---\n",
      "✅ Linear Regression Finisihed Training\n",
      "   Param grid: {}\n",
      "   Valid MAE: 16333\n",
      "   Valid R²: 0.920\n",
      "   Time: 2.8s\n",
      "\n",
      "--- Training Ridge ---\n",
      "✅ Ridge Finisihed Training\n",
      "   Param grid: {'regressor__model__alpha': 50.0, 'regressor__model__max_iter': 500}\n",
      "   Valid MAE: 17585\n",
      "   Valid R²: 0.904\n",
      "   Time: 1.7s\n",
      "\n",
      "--- Training Lasso ---\n",
      "✅ Lasso Finisihed Training\n",
      "   Param grid: {'regressor__model__alpha': 0.001, 'regressor__model__max_iter': 500}\n",
      "   Valid MAE: 17139\n",
      "   Valid R²: 0.912\n",
      "   Time: 1.1s\n",
      "\n",
      "--- Training Random Forest ---\n",
      "✅ Random Forest Finisihed Training\n",
      "   Param grid: {'regressor__model__max_depth': 7, 'regressor__model__max_features': 0.3, 'regressor__model__min_samples_leaf': 10, 'regressor__model__min_samples_split': 40, 'regressor__model__n_estimators': 200}\n",
      "   Valid MAE: 20022\n",
      "   Valid R²: 0.812\n",
      "   Time: 5.3s\n",
      "\n",
      "--- Training XGBoost ---\n",
      "✅ XGBoost Finisihed Training\n",
      "   Param grid: {'regressor__model__colsample_bytree': 0.4, 'regressor__model__learning_rate': 0.03, 'regressor__model__max_depth': 3, 'regressor__model__min_child_weight': 10, 'regressor__model__n_estimators': 200, 'regressor__model__reg_lambda': 50.0, 'regressor__model__subsample': 0.7}\n",
      "   Valid MAE: 19898\n",
      "   Valid R²: 0.808\n",
      "   Time: 0.4s\n",
      "\n",
      "================================================================================\n",
      "📊 Model Evaluation Results\n",
      "================================================================================\n",
      "\n",
      "🎯 最佳模型: Lasso\n",
      "   MAE: 17139\n",
      "   R²: 0.912\n"
     ]
    }
   ],
   "source": [
    "# Model Comparison and Analysis\n",
    "results, models_info = model_comparison(X_train, y_train, X_valid, y_valid, preprocessor)\n",
    "df_results, best_estimator, best_params = analyze_model_results(results)"
   ]
  },
  {
   "cell_type": "code",
   "execution_count": 33,
   "id": "1f282eb8",
   "metadata": {},
   "outputs": [],
   "source": [
    "df_results.to_csv(\"/Users/edwina/Desktop/House_Pricing_Prediction/app/dataframes/df_results.csv\", index=False)"
   ]
  },
  {
   "cell_type": "code",
   "execution_count": 25,
   "id": "088d383b",
   "metadata": {},
   "outputs": [
    {
     "data": {
      "application/vnd.plotly.v1+json": {
       "config": {
        "plotlyServerURL": "https://plot.ly"
       },
       "data": [
        {
         "marker": {
          "color": [
           "#1f77b4",
           "#dfc73f",
           "#f26c6c",
           "#461989",
           "#70ab27"
          ]
         },
         "name": "Valid MAE",
         "showlegend": false,
         "type": "bar",
         "x": [
          "Linear Regression",
          "Lasso",
          "Ridge",
          "XGBoost",
          "Random Forest"
         ],
         "xaxis": "x",
         "y": {
          "bdata": "d35tX3jmz0AQwzQf0bzQQAs0nQJdLNFAAAAA4IRu00AP3gLyio3TQA==",
          "dtype": "f8"
         },
         "yaxis": "y"
        },
        {
         "marker": {
          "color": [
           "#1f77b4",
           "#dfc73f",
           "#f26c6c",
           "#461989",
           "#70ab27"
          ]
         },
         "name": "Valid R²",
         "showlegend": false,
         "type": "bar",
         "x": [
          "Linear Regression",
          "Lasso",
          "Ridge",
          "XGBoost",
          "Random Forest"
         ],
         "xaxis": "x2",
         "y": {
          "bdata": "rDOu/gJ07T8Ww2syzC7tP8L0AT/56+w/AAAAYNzY6T9UZ9LmH//pPw==",
          "dtype": "f8"
         },
         "yaxis": "y2"
        },
        {
         "marker": {
          "color": [
           "#1f77b4",
           "#dfc73f",
           "#f26c6c",
           "#461989",
           "#70ab27"
          ]
         },
         "name": "Overfitting Gap",
         "showlegend": false,
         "type": "bar",
         "x": [
          "Linear Regression",
          "Lasso",
          "Ridge",
          "XGBoost",
          "Random Forest"
         ],
         "xaxis": "x3",
         "y": {
          "bdata": "R5L8yGckQkAzbZ2pikYoQIwxt0fypShAtS8x50IYN0A/1mp82kM0QA==",
          "dtype": "f8"
         },
         "yaxis": "y3"
        },
        {
         "customdata": {
          "bdata": "03xY5EgK7j+sM67+AnTtP0eS/MhnJEJAb6be68ve6z8Ww2syzC7tPzNtnamKRihAPSDUBX0v6z/C9AE/+evsP4wxt0fypShAAAAAIM5U6z8AAABg3NjpP7UvMedCGDdAm04E+Acp6z9UZ9LmH//pPz/WanzaQzRA",
          "dtype": "f8",
          "shape": "5, 3"
         },
         "hovertemplate": "<b>%{text}</b><br>Training Time: %{x:.1f} seconds<br>Validation MAE: %{y:.0f}<br>Train R²: %{customdata[0]:.3f}<br>Valid R²: %{customdata[1]:.3f}<br>Overfitting Gap: %{customdata[2]:.1f}%<br><extra></extra>",
         "marker": {
          "color": [
           "#1f77b4",
           "#dfc73f",
           "#f26c6c",
           "#461989",
           "#70ab27"
          ],
          "opacity": 0.8,
          "size": 15
         },
         "mode": "markers",
         "name": "Models",
         "showlegend": false,
         "text": [
          "Linear Regression",
          "Lasso",
          "Ridge",
          "XGBoost",
          "Random Forest"
         ],
         "type": "scatter",
         "x": {
          "bdata": "AAAAANnLBkAAAADAKTPyPwAAAEB30Ps/AAAAANAK2D8AAABQoVoVQA==",
          "dtype": "f8"
         },
         "xaxis": "x4",
         "y": {
          "bdata": "d35tX3jmz0AQwzQf0bzQQAs0nQJdLNFAAAAA4IRu00AP3gLyio3TQA==",
          "dtype": "f8"
         },
         "yaxis": "y4"
        }
       ],
       "layout": {
        "annotations": [
         {
          "font": {
           "size": 16
          },
          "showarrow": false,
          "text": "Validation MAE Comparison",
          "x": 0.225,
          "xanchor": "center",
          "xref": "paper",
          "y": 1,
          "yanchor": "bottom",
          "yref": "paper"
         },
         {
          "font": {
           "size": 16
          },
          "showarrow": false,
          "text": "Validation R² Comparison",
          "x": 0.775,
          "xanchor": "center",
          "xref": "paper",
          "y": 1,
          "yanchor": "bottom",
          "yref": "paper"
         },
         {
          "font": {
           "size": 16
          },
          "showarrow": false,
          "text": "Overfitting Analysis",
          "x": 0.225,
          "xanchor": "center",
          "xref": "paper",
          "y": 0.375,
          "yanchor": "bottom",
          "yref": "paper"
         },
         {
          "font": {
           "size": 16
          },
          "showarrow": false,
          "text": "Performance vs Training Time",
          "x": 0.775,
          "xanchor": "center",
          "xref": "paper",
          "y": 0.375,
          "yanchor": "bottom",
          "yref": "paper"
         },
         {
          "showarrow": false,
          "text": "Acceptable (15%)",
          "x": 1,
          "xanchor": "right",
          "xref": "x3 domain",
          "y": 15,
          "yanchor": "bottom",
          "yref": "y3"
         },
         {
          "showarrow": false,
          "text": "Problematic (25%)",
          "x": 1,
          "xanchor": "right",
          "xref": "x3 domain",
          "y": 25,
          "yanchor": "bottom",
          "yref": "y3"
         }
        ],
        "height": 1200,
        "shapes": [
         {
          "line": {
           "color": "orange",
           "dash": "dash"
          },
          "type": "line",
          "x0": 0,
          "x1": 1,
          "xref": "x3 domain",
          "y0": 15,
          "y1": 15,
          "yref": "y3"
         },
         {
          "line": {
           "color": "red",
           "dash": "dash"
          },
          "type": "line",
          "x0": 0,
          "x1": 1,
          "xref": "x3 domain",
          "y0": 25,
          "y1": 25,
          "yref": "y3"
         }
        ],
        "showlegend": false,
        "template": {
         "data": {
          "bar": [
           {
            "error_x": {
             "color": "#2a3f5f"
            },
            "error_y": {
             "color": "#2a3f5f"
            },
            "marker": {
             "line": {
              "color": "#E5ECF6",
              "width": 0.5
             },
             "pattern": {
              "fillmode": "overlay",
              "size": 10,
              "solidity": 0.2
             }
            },
            "type": "bar"
           }
          ],
          "barpolar": [
           {
            "marker": {
             "line": {
              "color": "#E5ECF6",
              "width": 0.5
             },
             "pattern": {
              "fillmode": "overlay",
              "size": 10,
              "solidity": 0.2
             }
            },
            "type": "barpolar"
           }
          ],
          "carpet": [
           {
            "aaxis": {
             "endlinecolor": "#2a3f5f",
             "gridcolor": "white",
             "linecolor": "white",
             "minorgridcolor": "white",
             "startlinecolor": "#2a3f5f"
            },
            "baxis": {
             "endlinecolor": "#2a3f5f",
             "gridcolor": "white",
             "linecolor": "white",
             "minorgridcolor": "white",
             "startlinecolor": "#2a3f5f"
            },
            "type": "carpet"
           }
          ],
          "choropleth": [
           {
            "colorbar": {
             "outlinewidth": 0,
             "ticks": ""
            },
            "type": "choropleth"
           }
          ],
          "contour": [
           {
            "colorbar": {
             "outlinewidth": 0,
             "ticks": ""
            },
            "colorscale": [
             [
              0,
              "#0d0887"
             ],
             [
              0.1111111111111111,
              "#46039f"
             ],
             [
              0.2222222222222222,
              "#7201a8"
             ],
             [
              0.3333333333333333,
              "#9c179e"
             ],
             [
              0.4444444444444444,
              "#bd3786"
             ],
             [
              0.5555555555555556,
              "#d8576b"
             ],
             [
              0.6666666666666666,
              "#ed7953"
             ],
             [
              0.7777777777777778,
              "#fb9f3a"
             ],
             [
              0.8888888888888888,
              "#fdca26"
             ],
             [
              1,
              "#f0f921"
             ]
            ],
            "type": "contour"
           }
          ],
          "contourcarpet": [
           {
            "colorbar": {
             "outlinewidth": 0,
             "ticks": ""
            },
            "type": "contourcarpet"
           }
          ],
          "heatmap": [
           {
            "colorbar": {
             "outlinewidth": 0,
             "ticks": ""
            },
            "colorscale": [
             [
              0,
              "#0d0887"
             ],
             [
              0.1111111111111111,
              "#46039f"
             ],
             [
              0.2222222222222222,
              "#7201a8"
             ],
             [
              0.3333333333333333,
              "#9c179e"
             ],
             [
              0.4444444444444444,
              "#bd3786"
             ],
             [
              0.5555555555555556,
              "#d8576b"
             ],
             [
              0.6666666666666666,
              "#ed7953"
             ],
             [
              0.7777777777777778,
              "#fb9f3a"
             ],
             [
              0.8888888888888888,
              "#fdca26"
             ],
             [
              1,
              "#f0f921"
             ]
            ],
            "type": "heatmap"
           }
          ],
          "histogram": [
           {
            "marker": {
             "pattern": {
              "fillmode": "overlay",
              "size": 10,
              "solidity": 0.2
             }
            },
            "type": "histogram"
           }
          ],
          "histogram2d": [
           {
            "colorbar": {
             "outlinewidth": 0,
             "ticks": ""
            },
            "colorscale": [
             [
              0,
              "#0d0887"
             ],
             [
              0.1111111111111111,
              "#46039f"
             ],
             [
              0.2222222222222222,
              "#7201a8"
             ],
             [
              0.3333333333333333,
              "#9c179e"
             ],
             [
              0.4444444444444444,
              "#bd3786"
             ],
             [
              0.5555555555555556,
              "#d8576b"
             ],
             [
              0.6666666666666666,
              "#ed7953"
             ],
             [
              0.7777777777777778,
              "#fb9f3a"
             ],
             [
              0.8888888888888888,
              "#fdca26"
             ],
             [
              1,
              "#f0f921"
             ]
            ],
            "type": "histogram2d"
           }
          ],
          "histogram2dcontour": [
           {
            "colorbar": {
             "outlinewidth": 0,
             "ticks": ""
            },
            "colorscale": [
             [
              0,
              "#0d0887"
             ],
             [
              0.1111111111111111,
              "#46039f"
             ],
             [
              0.2222222222222222,
              "#7201a8"
             ],
             [
              0.3333333333333333,
              "#9c179e"
             ],
             [
              0.4444444444444444,
              "#bd3786"
             ],
             [
              0.5555555555555556,
              "#d8576b"
             ],
             [
              0.6666666666666666,
              "#ed7953"
             ],
             [
              0.7777777777777778,
              "#fb9f3a"
             ],
             [
              0.8888888888888888,
              "#fdca26"
             ],
             [
              1,
              "#f0f921"
             ]
            ],
            "type": "histogram2dcontour"
           }
          ],
          "mesh3d": [
           {
            "colorbar": {
             "outlinewidth": 0,
             "ticks": ""
            },
            "type": "mesh3d"
           }
          ],
          "parcoords": [
           {
            "line": {
             "colorbar": {
              "outlinewidth": 0,
              "ticks": ""
             }
            },
            "type": "parcoords"
           }
          ],
          "pie": [
           {
            "automargin": true,
            "type": "pie"
           }
          ],
          "scatter": [
           {
            "fillpattern": {
             "fillmode": "overlay",
             "size": 10,
             "solidity": 0.2
            },
            "type": "scatter"
           }
          ],
          "scatter3d": [
           {
            "line": {
             "colorbar": {
              "outlinewidth": 0,
              "ticks": ""
             }
            },
            "marker": {
             "colorbar": {
              "outlinewidth": 0,
              "ticks": ""
             }
            },
            "type": "scatter3d"
           }
          ],
          "scattercarpet": [
           {
            "marker": {
             "colorbar": {
              "outlinewidth": 0,
              "ticks": ""
             }
            },
            "type": "scattercarpet"
           }
          ],
          "scattergeo": [
           {
            "marker": {
             "colorbar": {
              "outlinewidth": 0,
              "ticks": ""
             }
            },
            "type": "scattergeo"
           }
          ],
          "scattergl": [
           {
            "marker": {
             "colorbar": {
              "outlinewidth": 0,
              "ticks": ""
             }
            },
            "type": "scattergl"
           }
          ],
          "scattermap": [
           {
            "marker": {
             "colorbar": {
              "outlinewidth": 0,
              "ticks": ""
             }
            },
            "type": "scattermap"
           }
          ],
          "scattermapbox": [
           {
            "marker": {
             "colorbar": {
              "outlinewidth": 0,
              "ticks": ""
             }
            },
            "type": "scattermapbox"
           }
          ],
          "scatterpolar": [
           {
            "marker": {
             "colorbar": {
              "outlinewidth": 0,
              "ticks": ""
             }
            },
            "type": "scatterpolar"
           }
          ],
          "scatterpolargl": [
           {
            "marker": {
             "colorbar": {
              "outlinewidth": 0,
              "ticks": ""
             }
            },
            "type": "scatterpolargl"
           }
          ],
          "scatterternary": [
           {
            "marker": {
             "colorbar": {
              "outlinewidth": 0,
              "ticks": ""
             }
            },
            "type": "scatterternary"
           }
          ],
          "surface": [
           {
            "colorbar": {
             "outlinewidth": 0,
             "ticks": ""
            },
            "colorscale": [
             [
              0,
              "#0d0887"
             ],
             [
              0.1111111111111111,
              "#46039f"
             ],
             [
              0.2222222222222222,
              "#7201a8"
             ],
             [
              0.3333333333333333,
              "#9c179e"
             ],
             [
              0.4444444444444444,
              "#bd3786"
             ],
             [
              0.5555555555555556,
              "#d8576b"
             ],
             [
              0.6666666666666666,
              "#ed7953"
             ],
             [
              0.7777777777777778,
              "#fb9f3a"
             ],
             [
              0.8888888888888888,
              "#fdca26"
             ],
             [
              1,
              "#f0f921"
             ]
            ],
            "type": "surface"
           }
          ],
          "table": [
           {
            "cells": {
             "fill": {
              "color": "#EBF0F8"
             },
             "line": {
              "color": "white"
             }
            },
            "header": {
             "fill": {
              "color": "#C8D4E3"
             },
             "line": {
              "color": "white"
             }
            },
            "type": "table"
           }
          ]
         },
         "layout": {
          "annotationdefaults": {
           "arrowcolor": "#2a3f5f",
           "arrowhead": 0,
           "arrowwidth": 1
          },
          "autotypenumbers": "strict",
          "coloraxis": {
           "colorbar": {
            "outlinewidth": 0,
            "ticks": ""
           }
          },
          "colorscale": {
           "diverging": [
            [
             0,
             "#8e0152"
            ],
            [
             0.1,
             "#c51b7d"
            ],
            [
             0.2,
             "#de77ae"
            ],
            [
             0.3,
             "#f1b6da"
            ],
            [
             0.4,
             "#fde0ef"
            ],
            [
             0.5,
             "#f7f7f7"
            ],
            [
             0.6,
             "#e6f5d0"
            ],
            [
             0.7,
             "#b8e186"
            ],
            [
             0.8,
             "#7fbc41"
            ],
            [
             0.9,
             "#4d9221"
            ],
            [
             1,
             "#276419"
            ]
           ],
           "sequential": [
            [
             0,
             "#0d0887"
            ],
            [
             0.1111111111111111,
             "#46039f"
            ],
            [
             0.2222222222222222,
             "#7201a8"
            ],
            [
             0.3333333333333333,
             "#9c179e"
            ],
            [
             0.4444444444444444,
             "#bd3786"
            ],
            [
             0.5555555555555556,
             "#d8576b"
            ],
            [
             0.6666666666666666,
             "#ed7953"
            ],
            [
             0.7777777777777778,
             "#fb9f3a"
            ],
            [
             0.8888888888888888,
             "#fdca26"
            ],
            [
             1,
             "#f0f921"
            ]
           ],
           "sequentialminus": [
            [
             0,
             "#0d0887"
            ],
            [
             0.1111111111111111,
             "#46039f"
            ],
            [
             0.2222222222222222,
             "#7201a8"
            ],
            [
             0.3333333333333333,
             "#9c179e"
            ],
            [
             0.4444444444444444,
             "#bd3786"
            ],
            [
             0.5555555555555556,
             "#d8576b"
            ],
            [
             0.6666666666666666,
             "#ed7953"
            ],
            [
             0.7777777777777778,
             "#fb9f3a"
            ],
            [
             0.8888888888888888,
             "#fdca26"
            ],
            [
             1,
             "#f0f921"
            ]
           ]
          },
          "colorway": [
           "#636efa",
           "#EF553B",
           "#00cc96",
           "#ab63fa",
           "#FFA15A",
           "#19d3f3",
           "#FF6692",
           "#B6E880",
           "#FF97FF",
           "#FECB52"
          ],
          "font": {
           "color": "#2a3f5f"
          },
          "geo": {
           "bgcolor": "white",
           "lakecolor": "white",
           "landcolor": "#E5ECF6",
           "showlakes": true,
           "showland": true,
           "subunitcolor": "white"
          },
          "hoverlabel": {
           "align": "left"
          },
          "hovermode": "closest",
          "mapbox": {
           "style": "light"
          },
          "paper_bgcolor": "white",
          "plot_bgcolor": "#E5ECF6",
          "polar": {
           "angularaxis": {
            "gridcolor": "white",
            "linecolor": "white",
            "ticks": ""
           },
           "bgcolor": "#E5ECF6",
           "radialaxis": {
            "gridcolor": "white",
            "linecolor": "white",
            "ticks": ""
           }
          },
          "scene": {
           "xaxis": {
            "backgroundcolor": "#E5ECF6",
            "gridcolor": "white",
            "gridwidth": 2,
            "linecolor": "white",
            "showbackground": true,
            "ticks": "",
            "zerolinecolor": "white"
           },
           "yaxis": {
            "backgroundcolor": "#E5ECF6",
            "gridcolor": "white",
            "gridwidth": 2,
            "linecolor": "white",
            "showbackground": true,
            "ticks": "",
            "zerolinecolor": "white"
           },
           "zaxis": {
            "backgroundcolor": "#E5ECF6",
            "gridcolor": "white",
            "gridwidth": 2,
            "linecolor": "white",
            "showbackground": true,
            "ticks": "",
            "zerolinecolor": "white"
           }
          },
          "shapedefaults": {
           "line": {
            "color": "#2a3f5f"
           }
          },
          "ternary": {
           "aaxis": {
            "gridcolor": "white",
            "linecolor": "white",
            "ticks": ""
           },
           "baxis": {
            "gridcolor": "white",
            "linecolor": "white",
            "ticks": ""
           },
           "bgcolor": "#E5ECF6",
           "caxis": {
            "gridcolor": "white",
            "linecolor": "white",
            "ticks": ""
           }
          },
          "title": {
           "x": 0.05
          },
          "xaxis": {
           "automargin": true,
           "gridcolor": "white",
           "linecolor": "white",
           "ticks": "",
           "title": {
            "standoff": 15
           },
           "zerolinecolor": "white",
           "zerolinewidth": 2
          },
          "yaxis": {
           "automargin": true,
           "gridcolor": "white",
           "linecolor": "white",
           "ticks": "",
           "title": {
            "standoff": 15
           },
           "zerolinecolor": "white",
           "zerolinewidth": 2
          }
         }
        },
        "title": {
         "text": "Model Comparison Results"
        },
        "width": 1200,
        "xaxis": {
         "anchor": "y",
         "domain": [
          0,
          0.45
         ],
         "title": {
          "text": "Model"
         }
        },
        "xaxis2": {
         "anchor": "y2",
         "domain": [
          0.55,
          1
         ],
         "title": {
          "text": "Model"
         }
        },
        "xaxis3": {
         "anchor": "y3",
         "domain": [
          0,
          0.45
         ],
         "title": {
          "text": "Model"
         }
        },
        "xaxis4": {
         "anchor": "y4",
         "domain": [
          0.55,
          1
         ],
         "title": {
          "text": "Training Time (seconds)"
         }
        },
        "yaxis": {
         "anchor": "x",
         "domain": [
          0.625,
          1
         ],
         "title": {
          "text": "MAE"
         }
        },
        "yaxis2": {
         "anchor": "x2",
         "domain": [
          0.625,
          1
         ],
         "title": {
          "text": "R²"
         }
        },
        "yaxis3": {
         "anchor": "x3",
         "domain": [
          0,
          0.375
         ],
         "title": {
          "text": "Overfitting Gap (%)"
         }
        },
        "yaxis4": {
         "anchor": "x4",
         "domain": [
          0,
          0.375
         ],
         "title": {
          "text": "Validation MAE"
         }
        }
       }
      }
     },
     "metadata": {},
     "output_type": "display_data"
    },
    {
     "name": "stdout",
     "output_type": "stream",
     "text": [
      "Last modified time: 2025-06-26 16:47:01.241800\n"
     ]
    },
    {
     "name": "stderr",
     "output_type": "stream",
     "text": [
      "/var/folders/lm/_qpcl74n0332d3zmtt5tkjw00000gn/T/ipykernel_15450/2640714515.py:147: UserWarning:\n",
      "\n",
      "FigureCanvasAgg is non-interactive, and thus cannot be shown\n",
      "\n"
     ]
    },
    {
     "data": {
      "image/png": "[encoded data removed]",
      "text/plain": [
       "<Figure size 1600x2000 with 10 Axes>"
      ]
     },
     "metadata": {},
     "output_type": "display_data"
    },
    {
     "name": "stderr",
     "output_type": "stream",
     "text": [
      "Exception ignored in: <function ResourceTracker.__del__ at 0x1023ba200>\n",
      "Traceback (most recent call last):\n",
      "  File \"/opt/anaconda3/envs/house_pricing/lib/python3.12/multiprocessing/resource_tracker.py\", line 77, in __del__\n",
      "  File \"/opt/anaconda3/envs/house_pricing/lib/python3.12/multiprocessing/resource_tracker.py\", line 86, in _stop\n",
      "  File \"/opt/anaconda3/envs/house_pricing/lib/python3.12/multiprocessing/resource_tracker.py\", line 111, in _stop_locked\n",
      "ChildProcessError: [Errno 10] No child processes\n",
      "Exception ignored in: <function ResourceTracker.__del__ at 0x107bc6200>\n",
      "Traceback (most recent call last):\n",
      "  File \"/opt/anaconda3/envs/house_pricing/lib/python3.12/multiprocessing/resource_tracker.py\", line 77, in __del__\n",
      "  File \"/opt/anaconda3/envs/house_pricing/lib/python3.12/multiprocessing/resource_tracker.py\", line 86, in _stop\n",
      "  File \"/opt/anaconda3/envs/house_pricing/lib/python3.12/multiprocessing/resource_tracker.py\", line 111, in _stop_locked\n",
      "ChildProcessError: [Errno 10] No child processes\n",
      "Exception ignored in: <function ResourceTracker.__del__ at 0x10620a200>\n",
      "Traceback (most recent call last):\n",
      "  File \"/opt/anaconda3/envs/house_pricing/lib/python3.12/multiprocessing/resource_tracker.py\", line 77, in __del__\n",
      "  File \"/opt/anaconda3/envs/house_pricing/lib/python3.12/multiprocessing/resource_tracker.py\", line 86, in _stop\n",
      "  File \"/opt/anaconda3/envs/house_pricing/lib/python3.12/multiprocessing/resource_tracker.py\", line 111, in _stop_locked\n",
      "ChildProcessError: [Errno 10] No child processes\n",
      "Exception ignored in: <function ResourceTracker.__del__ at 0x1036ee200>\n",
      "Traceback (most recent call last):\n",
      "  File \"/opt/anaconda3/envs/house_pricing/lib/python3.12/multiprocessing/resource_tracker.py\", line 77, in __del__\n",
      "  File \"/opt/anaconda3/envs/house_pricing/lib/python3.12/multiprocessing/resource_tracker.py\", line 86, in _stop\n",
      "  File \"/opt/anaconda3/envs/house_pricing/lib/python3.12/multiprocessing/resource_tracker.py\", line 111, in _stop_locked\n",
      "ChildProcessError: [Errno 10] No child processes\n",
      "Exception ignored in: <function ResourceTracker.__del__ at 0x10277a200>\n",
      "Traceback (most recent call last):\n",
      "  File \"/opt/anaconda3/envs/house_pricing/lib/python3.12/multiprocessing/resource_tracker.py\", line 77, in __del__\n",
      "  File \"/opt/anaconda3/envs/house_pricing/lib/python3.12/multiprocessing/resource_tracker.py\", line 86, in _stop\n",
      "  File \"/opt/anaconda3/envs/house_pricing/lib/python3.12/multiprocessing/resource_tracker.py\", line 111, in _stop_locked\n",
      "ChildProcessError: [Errno 10] No child processes\n",
      "Exception ignored in: <function ResourceTracker.__del__ at 0x1076ee200>\n",
      "Traceback (most recent call last):\n",
      "  File \"/opt/anaconda3/envs/house_pricing/lib/python3.12/multiprocessing/resource_tracker.py\", line 77, in __del__\n",
      "  File \"/opt/anaconda3/envs/house_pricing/lib/python3.12/multiprocessing/resource_tracker.py\", line 86, in _stop\n",
      "  File \"/opt/anaconda3/envs/house_pricing/lib/python3.12/multiprocessing/resource_tracker.py\", line 111, in _stop_locked\n",
      "ChildProcessError: [Errno 10] No child processes\n",
      "Exception ignored in: <function ResourceTracker.__del__ at 0x10226a200>\n",
      "Traceback (most recent call last):\n",
      "  File \"/opt/anaconda3/envs/house_pricing/lib/python3.12/multiprocessing/resource_tracker.py\", line 77, in __del__\n",
      "  File \"/opt/anaconda3/envs/house_pricing/lib/python3.12/multiprocessing/resource_tracker.py\", line 86, in _stop\n",
      "  File \"/opt/anaconda3/envs/house_pricing/lib/python3.12/multiprocessing/resource_tracker.py\", line 111, in _stop_locked\n",
      "ChildProcessError: [Errno 10] No child processes\n",
      "Exception ignored in: <function ResourceTracker.__del__ at 0x1067e6200>\n",
      "Traceback (most recent call last):\n",
      "  File \"/opt/anaconda3/envs/house_pricing/lib/python3.12/multiprocessing/resource_tracker.py\", line 77, in __del__\n",
      "  File \"/opt/anaconda3/envs/house_pricing/lib/python3.12/multiprocessing/resource_tracker.py\", line 86, in _stop\n",
      "  File \"/opt/anaconda3/envs/house_pricing/lib/python3.12/multiprocessing/resource_tracker.py\", line 111, in _stop_locked\n",
      "ChildProcessError: [Errno 10] No child processes\n"
     ]
    }
   ],
   "source": [
    "# Visualize the results\n",
    "create_comparison_plots(df_results)\n",
    "plot_train_vs_valid_residuals(results, X_train, X_valid, y_train, y_valid)"
   ]
  },
  {
   "cell_type": "markdown",
   "id": "4a25fa86",
   "metadata": {},
   "source": [
    "## 📊 Model Comparison Summary & Insights\n",
    "\n",
    "#### 🔍 Model Selection Criteria: Balance Between Accuracy (MAE) and Generalization (Overfitting Gap)\n",
    "- Although Linear Regression achieved the lowest Validation MAE (16,333) and highest R² (0.920), its overfitting gap exceeded 36%, indicating weak generalization to unseen data. Thus, it is not considered the best model overall.\n",
    "\n",
    "- Applied a weighted metric MAE * (1 + Overfitting Gap%) to evaluate models comprehensively — rewarding models that are both accurate and robust.\n",
    "\n",
    "#### ✅ Lasso Regression Emerges as the Best Model\n",
    "- It achieved a competitive MAE with a low overfitting gap (~12%), showing a good balance of accuracy and stability.\n",
    "\n",
    "- Lasso’s built-in feature selection also helps simplify the model and reduce variance, making it ideal in this scenario.\n",
    "\n",
    "#### ✅ Linear Models Outperform Nonlinear Models (RF / XGBoost)\n",
    "- All linear models (Linear, Ridge, Lasso) demonstrated lower validation errors and higher R² scores.\n",
    "\n",
    "- This suggests that the dataset likely exhibits linear relationships, and more complex models such as Random Forest or XGBoost did not yield better performance.\n",
    "\n",
    "- Tree-based models may also be disadvantaged here due to limited sample size (~1,460 rows) — boosting models typically require larger datasets to be effective.\n",
    "\n",
    "#### ⚠️ All Models Struggled with High-Price Properties\n",
    "- Residual plots show greater spread in predictions for high-priced houses, indicating that these cases have high variance and are harder to model accurately.\n",
    "\n",
    "- Future Work: Improve predictive for luxuery houses."
   ]
  },
  {
   "cell_type": "markdown",
   "id": "5a4b9935",
   "metadata": {},
   "source": [
    "# Feature Selection\n",
    "Using Lasso for embedded feature selection to reduce feature dimensionality, which helped mitigate overfitting and improved the model's generalizability."
   ]
  },
  {
   "cell_type": "code",
   "execution_count": 18,
   "id": "e1d1ca23",
   "metadata": {},
   "outputs": [
    {
     "data": {
      "text/html": [
       "<style>#sk-container-id-1 {\n",
       "  /* Definition of color scheme common for light and dark mode */\n",
       "  --sklearn-color-text: #000;\n",
       "  --sklearn-color-text-muted: #666;\n",
       "  --sklearn-color-line: gray;\n",
       "  /* Definition of color scheme for unfitted estimators */\n",
       "  --sklearn-color-unfitted-level-0: #fff5e6;\n",
       "  --sklearn-color-unfitted-level-1: #f6e4d2;\n",
       "  --sklearn-color-unfitted-level-2: #ffe0b3;\n",
       "  --sklearn-color-unfitted-level-3: chocolate;\n",
       "  /* Definition of color scheme for fitted estimators */\n",
       "  --sklearn-color-fitted-level-0: #f0f8ff;\n",
       "  --sklearn-color-fitted-level-1: #d4ebff;\n",
       "  --sklearn-color-fitted-level-2: #b3dbfd;\n",
       "  --sklearn-color-fitted-level-3: cornflowerblue;\n",
       "\n",
       "  /* Specific color for light theme */\n",
       "  --sklearn-color-text-on-default-background: var(--sg-text-color, var(--theme-code-foreground, var(--jp-content-font-color1, black)));\n",
       "  --sklearn-color-background: var(--sg-background-color, var(--theme-background, var(--jp-layout-color0, white)));\n",
       "  --sklearn-color-border-box: var(--sg-text-color, var(--theme-code-foreground, var(--jp-content-font-color1, black)));\n",
       "  --sklearn-color-icon: #696969;\n",
       "\n",
       "  @media (prefers-color-scheme: dark) {\n",
       "    /* Redefinition of color scheme for dark theme */\n",
       "    --sklearn-color-text-on-default-background: var(--sg-text-color, var(--theme-code-foreground, var(--jp-content-font-color1, white)));\n",
       "    --sklearn-color-background: var(--sg-background-color, var(--theme-background, var(--jp-layout-color0, #111)));\n",
       "    --sklearn-color-border-box: var(--sg-text-color, var(--theme-code-foreground, var(--jp-content-font-color1, white)));\n",
       "    --sklearn-color-icon: #878787;\n",
       "  }\n",
       "}\n",
       "\n",
       "#sk-container-id-1 {\n",
       "  color: var(--sklearn-color-text);\n",
       "}\n",
       "\n",
       "#sk-container-id-1 pre {\n",
       "  padding: 0;\n",
       "}\n",
       "\n",
       "#sk-container-id-1 input.sk-hidden--visually {\n",
       "  border: 0;\n",
       "  clip: rect(1px 1px 1px 1px);\n",
       "  clip: rect(1px, 1px, 1px, 1px);\n",
       "  height: 1px;\n",
       "  margin: -1px;\n",
       "  overflow: hidden;\n",
       "  padding: 0;\n",
       "  position: absolute;\n",
       "  width: 1px;\n",
       "}\n",
       "\n",
       "#sk-container-id-1 div.sk-dashed-wrapped {\n",
       "  border: 1px dashed var(--sklearn-color-line);\n",
       "  margin: 0 0.4em 0.5em 0.4em;\n",
       "  box-sizing: border-box;\n",
       "  padding-bottom: 0.4em;\n",
       "  background-color: var(--sklearn-color-background);\n",
       "}\n",
       "\n",
       "#sk-container-id-1 div.sk-container {\n",
       "  /* jupyter's `normalize.less` sets `[hidden] { display: none; }`\n",
       "     but bootstrap.min.css set `[hidden] { display: none !important; }`\n",
       "     so we also need the `!important` here to be able to override the\n",
       "     default hidden behavior on the sphinx rendered scikit-learn.org.\n",
       "     See: https://github.com/scikit-learn/scikit-learn/issues/21755 */\n",
       "  display: inline-block !important;\n",
       "  position: relative;\n",
       "}\n",
       "\n",
       "#sk-container-id-1 div.sk-text-repr-fallback {\n",
       "  display: none;\n",
       "}\n",
       "\n",
       "div.sk-parallel-item,\n",
       "div.sk-serial,\n",
       "div.sk-item {\n",
       "  /* draw centered vertical line to link estimators */\n",
       "  background-image: linear-gradient(var(--sklearn-color-text-on-default-background), var(--sklearn-color-text-on-default-background));\n",
       "  background-size: 2px 100%;\n",
       "  background-repeat: no-repeat;\n",
       "  background-position: center center;\n",
       "}\n",
       "\n",
       "/* Parallel-specific style estimator block */\n",
       "\n",
       "#sk-container-id-1 div.sk-parallel-item::after {\n",
       "  content: \"\";\n",
       "  width: 100%;\n",
       "  border-bottom: 2px solid var(--sklearn-color-text-on-default-background);\n",
       "  flex-grow: 1;\n",
       "}\n",
       "\n",
       "#sk-container-id-1 div.sk-parallel {\n",
       "  display: flex;\n",
       "  align-items: stretch;\n",
       "  justify-content: center;\n",
       "  background-color: var(--sklearn-color-background);\n",
       "  position: relative;\n",
       "}\n",
       "\n",
       "#sk-container-id-1 div.sk-parallel-item {\n",
       "  display: flex;\n",
       "  flex-direction: column;\n",
       "}\n",
       "\n",
       "#sk-container-id-1 div.sk-parallel-item:first-child::after {\n",
       "  align-self: flex-end;\n",
       "  width: 50%;\n",
       "}\n",
       "\n",
       "#sk-container-id-1 div.sk-parallel-item:last-child::after {\n",
       "  align-self: flex-start;\n",
       "  width: 50%;\n",
       "}\n",
       "\n",
       "#sk-container-id-1 div.sk-parallel-item:only-child::after {\n",
       "  width: 0;\n",
       "}\n",
       "\n",
       "/* Serial-specific style estimator block */\n",
       "\n",
       "#sk-container-id-1 div.sk-serial {\n",
       "  display: flex;\n",
       "  flex-direction: column;\n",
       "  align-items: center;\n",
       "  background-color: var(--sklearn-color-background);\n",
       "  padding-right: 1em;\n",
       "  padding-left: 1em;\n",
       "}\n",
       "\n",
       "\n",
       "/* Toggleable style: style used for estimator/Pipeline/ColumnTransformer box that is\n",
       "clickable and can be expanded/collapsed.\n",
       "- Pipeline and ColumnTransformer use this feature and define the default style\n",
       "- Estimators will overwrite some part of the style using the `sk-estimator` class\n",
       "*/\n",
       "\n",
       "/* Pipeline and ColumnTransformer style (default) */\n",
       "\n",
       "#sk-container-id-1 div.sk-toggleable {\n",
       "  /* Default theme specific background. It is overwritten whether we have a\n",
       "  specific estimator or a Pipeline/ColumnTransformer */\n",
       "  background-color: var(--sklearn-color-background);\n",
       "}\n",
       "\n",
       "/* Toggleable label */\n",
       "#sk-container-id-1 label.sk-toggleable__label {\n",
       "  cursor: pointer;\n",
       "  display: flex;\n",
       "  width: 100%;\n",
       "  margin-bottom: 0;\n",
       "  padding: 0.5em;\n",
       "  box-sizing: border-box;\n",
       "  text-align: center;\n",
       "  align-items: start;\n",
       "  justify-content: space-between;\n",
       "  gap: 0.5em;\n",
       "}\n",
       "\n",
       "#sk-container-id-1 label.sk-toggleable__label .caption {\n",
       "  font-size: 0.6rem;\n",
       "  font-weight: lighter;\n",
       "  color: var(--sklearn-color-text-muted);\n",
       "}\n",
       "\n",
       "#sk-container-id-1 label.sk-toggleable__label-arrow:before {\n",
       "  /* Arrow on the left of the label */\n",
       "  content: \"▸\";\n",
       "  float: left;\n",
       "  margin-right: 0.25em;\n",
       "  color: var(--sklearn-color-icon);\n",
       "}\n",
       "\n",
       "#sk-container-id-1 label.sk-toggleable__label-arrow:hover:before {\n",
       "  color: var(--sklearn-color-text);\n",
       "}\n",
       "\n",
       "/* Toggleable content - dropdown */\n",
       "\n",
       "#sk-container-id-1 div.sk-toggleable__content {\n",
       "  max-height: 0;\n",
       "  max-width: 0;\n",
       "  overflow: hidden;\n",
       "  text-align: left;\n",
       "  /* unfitted */\n",
       "  background-color: var(--sklearn-color-unfitted-level-0);\n",
       "}\n",
       "\n",
       "#sk-container-id-1 div.sk-toggleable__content.fitted {\n",
       "  /* fitted */\n",
       "  background-color: var(--sklearn-color-fitted-level-0);\n",
       "}\n",
       "\n",
       "#sk-container-id-1 div.sk-toggleable__content pre {\n",
       "  margin: 0.2em;\n",
       "  border-radius: 0.25em;\n",
       "  color: var(--sklearn-color-text);\n",
       "  /* unfitted */\n",
       "  background-color: var(--sklearn-color-unfitted-level-0);\n",
       "}\n",
       "\n",
       "#sk-container-id-1 div.sk-toggleable__content.fitted pre {\n",
       "  /* unfitted */\n",
       "  background-color: var(--sklearn-color-fitted-level-0);\n",
       "}\n",
       "\n",
       "#sk-container-id-1 input.sk-toggleable__control:checked~div.sk-toggleable__content {\n",
       "  /* Expand drop-down */\n",
       "  max-height: 200px;\n",
       "  max-width: 100%;\n",
       "  overflow: auto;\n",
       "}\n",
       "\n",
       "#sk-container-id-1 input.sk-toggleable__control:checked~label.sk-toggleable__label-arrow:before {\n",
       "  content: \"▾\";\n",
       "}\n",
       "\n",
       "/* Pipeline/ColumnTransformer-specific style */\n",
       "\n",
       "#sk-container-id-1 div.sk-label input.sk-toggleable__control:checked~label.sk-toggleable__label {\n",
       "  color: var(--sklearn-color-text);\n",
       "  background-color: var(--sklearn-color-unfitted-level-2);\n",
       "}\n",
       "\n",
       "#sk-container-id-1 div.sk-label.fitted input.sk-toggleable__control:checked~label.sk-toggleable__label {\n",
       "  background-color: var(--sklearn-color-fitted-level-2);\n",
       "}\n",
       "\n",
       "/* Estimator-specific style */\n",
       "\n",
       "/* Colorize estimator box */\n",
       "#sk-container-id-1 div.sk-estimator input.sk-toggleable__control:checked~label.sk-toggleable__label {\n",
       "  /* unfitted */\n",
       "  background-color: var(--sklearn-color-unfitted-level-2);\n",
       "}\n",
       "\n",
       "#sk-container-id-1 div.sk-estimator.fitted input.sk-toggleable__control:checked~label.sk-toggleable__label {\n",
       "  /* fitted */\n",
       "  background-color: var(--sklearn-color-fitted-level-2);\n",
       "}\n",
       "\n",
       "#sk-container-id-1 div.sk-label label.sk-toggleable__label,\n",
       "#sk-container-id-1 div.sk-label label {\n",
       "  /* The background is the default theme color */\n",
       "  color: var(--sklearn-color-text-on-default-background);\n",
       "}\n",
       "\n",
       "/* On hover, darken the color of the background */\n",
       "#sk-container-id-1 div.sk-label:hover label.sk-toggleable__label {\n",
       "  color: var(--sklearn-color-text);\n",
       "  background-color: var(--sklearn-color-unfitted-level-2);\n",
       "}\n",
       "\n",
       "/* Label box, darken color on hover, fitted */\n",
       "#sk-container-id-1 div.sk-label.fitted:hover label.sk-toggleable__label.fitted {\n",
       "  color: var(--sklearn-color-text);\n",
       "  background-color: var(--sklearn-color-fitted-level-2);\n",
       "}\n",
       "\n",
       "/* Estimator label */\n",
       "\n",
       "#sk-container-id-1 div.sk-label label {\n",
       "  font-family: monospace;\n",
       "  font-weight: bold;\n",
       "  display: inline-block;\n",
       "  line-height: 1.2em;\n",
       "}\n",
       "\n",
       "#sk-container-id-1 div.sk-label-container {\n",
       "  text-align: center;\n",
       "}\n",
       "\n",
       "/* Estimator-specific */\n",
       "#sk-container-id-1 div.sk-estimator {\n",
       "  font-family: monospace;\n",
       "  border: 1px dotted var(--sklearn-color-border-box);\n",
       "  border-radius: 0.25em;\n",
       "  box-sizing: border-box;\n",
       "  margin-bottom: 0.5em;\n",
       "  /* unfitted */\n",
       "  background-color: var(--sklearn-color-unfitted-level-0);\n",
       "}\n",
       "\n",
       "#sk-container-id-1 div.sk-estimator.fitted {\n",
       "  /* fitted */\n",
       "  background-color: var(--sklearn-color-fitted-level-0);\n",
       "}\n",
       "\n",
       "/* on hover */\n",
       "#sk-container-id-1 div.sk-estimator:hover {\n",
       "  /* unfitted */\n",
       "  background-color: var(--sklearn-color-unfitted-level-2);\n",
       "}\n",
       "\n",
       "#sk-container-id-1 div.sk-estimator.fitted:hover {\n",
       "  /* fitted */\n",
       "  background-color: var(--sklearn-color-fitted-level-2);\n",
       "}\n",
       "\n",
       "/* Specification for estimator info (e.g. \"i\" and \"?\") */\n",
       "\n",
       "/* Common style for \"i\" and \"?\" */\n",
       "\n",
       ".sk-estimator-doc-link,\n",
       "a:link.sk-estimator-doc-link,\n",
       "a:visited.sk-estimator-doc-link {\n",
       "  float: right;\n",
       "  font-size: smaller;\n",
       "  line-height: 1em;\n",
       "  font-family: monospace;\n",
       "  background-color: var(--sklearn-color-background);\n",
       "  border-radius: 1em;\n",
       "  height: 1em;\n",
       "  width: 1em;\n",
       "  text-decoration: none !important;\n",
       "  margin-left: 0.5em;\n",
       "  text-align: center;\n",
       "  /* unfitted */\n",
       "  border: var(--sklearn-color-unfitted-level-1) 1pt solid;\n",
       "  color: var(--sklearn-color-unfitted-level-1);\n",
       "}\n",
       "\n",
       ".sk-estimator-doc-link.fitted,\n",
       "a:link.sk-estimator-doc-link.fitted,\n",
       "a:visited.sk-estimator-doc-link.fitted {\n",
       "  /* fitted */\n",
       "  border: var(--sklearn-color-fitted-level-1) 1pt solid;\n",
       "  color: var(--sklearn-color-fitted-level-1);\n",
       "}\n",
       "\n",
       "/* On hover */\n",
       "div.sk-estimator:hover .sk-estimator-doc-link:hover,\n",
       ".sk-estimator-doc-link:hover,\n",
       "div.sk-label-container:hover .sk-estimator-doc-link:hover,\n",
       ".sk-estimator-doc-link:hover {\n",
       "  /* unfitted */\n",
       "  background-color: var(--sklearn-color-unfitted-level-3);\n",
       "  color: var(--sklearn-color-background);\n",
       "  text-decoration: none;\n",
       "}\n",
       "\n",
       "div.sk-estimator.fitted:hover .sk-estimator-doc-link.fitted:hover,\n",
       ".sk-estimator-doc-link.fitted:hover,\n",
       "div.sk-label-container:hover .sk-estimator-doc-link.fitted:hover,\n",
       ".sk-estimator-doc-link.fitted:hover {\n",
       "  /* fitted */\n",
       "  background-color: var(--sklearn-color-fitted-level-3);\n",
       "  color: var(--sklearn-color-background);\n",
       "  text-decoration: none;\n",
       "}\n",
       "\n",
       "/* Span, style for the box shown on hovering the info icon */\n",
       ".sk-estimator-doc-link span {\n",
       "  display: none;\n",
       "  z-index: 9999;\n",
       "  position: relative;\n",
       "  font-weight: normal;\n",
       "  right: .2ex;\n",
       "  padding: .5ex;\n",
       "  margin: .5ex;\n",
       "  width: min-content;\n",
       "  min-width: 20ex;\n",
       "  max-width: 50ex;\n",
       "  color: var(--sklearn-color-text);\n",
       "  box-shadow: 2pt 2pt 4pt #999;\n",
       "  /* unfitted */\n",
       "  background: var(--sklearn-color-unfitted-level-0);\n",
       "  border: .5pt solid var(--sklearn-color-unfitted-level-3);\n",
       "}\n",
       "\n",
       ".sk-estimator-doc-link.fitted span {\n",
       "  /* fitted */\n",
       "  background: var(--sklearn-color-fitted-level-0);\n",
       "  border: var(--sklearn-color-fitted-level-3);\n",
       "}\n",
       "\n",
       ".sk-estimator-doc-link:hover span {\n",
       "  display: block;\n",
       "}\n",
       "\n",
       "/* \"?\"-specific style due to the `<a>` HTML tag */\n",
       "\n",
       "#sk-container-id-1 a.estimator_doc_link {\n",
       "  float: right;\n",
       "  font-size: 1rem;\n",
       "  line-height: 1em;\n",
       "  font-family: monospace;\n",
       "  background-color: var(--sklearn-color-background);\n",
       "  border-radius: 1rem;\n",
       "  height: 1rem;\n",
       "  width: 1rem;\n",
       "  text-decoration: none;\n",
       "  /* unfitted */\n",
       "  color: var(--sklearn-color-unfitted-level-1);\n",
       "  border: var(--sklearn-color-unfitted-level-1) 1pt solid;\n",
       "}\n",
       "\n",
       "#sk-container-id-1 a.estimator_doc_link.fitted {\n",
       "  /* fitted */\n",
       "  border: var(--sklearn-color-fitted-level-1) 1pt solid;\n",
       "  color: var(--sklearn-color-fitted-level-1);\n",
       "}\n",
       "\n",
       "/* On hover */\n",
       "#sk-container-id-1 a.estimator_doc_link:hover {\n",
       "  /* unfitted */\n",
       "  background-color: var(--sklearn-color-unfitted-level-3);\n",
       "  color: var(--sklearn-color-background);\n",
       "  text-decoration: none;\n",
       "}\n",
       "\n",
       "#sk-container-id-1 a.estimator_doc_link.fitted:hover {\n",
       "  /* fitted */\n",
       "  background-color: var(--sklearn-color-fitted-level-3);\n",
       "}\n",
       "</style><div id=\"sk-container-id-1\" class=\"sk-top-container\"><div class=\"sk-text-repr-fallback\"><pre>Lasso(alpha=0.001, max_iter=500, random_state=42)</pre><b>In a Jupyter environment, please rerun this cell to show the HTML representation or trust the notebook. <br />On GitHub, the HTML representation is unable to render, please try loading this page with nbviewer.org.</b></div><div class=\"sk-container\" hidden><div class=\"sk-item\"><div class=\"sk-estimator fitted sk-toggleable\"><input class=\"sk-toggleable__control sk-hidden--visually\" id=\"sk-estimator-id-1\" type=\"checkbox\" checked><label for=\"sk-estimator-id-1\" class=\"sk-toggleable__label fitted sk-toggleable__label-arrow\"><div><div>Lasso</div></div><div><a class=\"sk-estimator-doc-link fitted\" rel=\"noreferrer\" target=\"_blank\" href=\"https://scikit-learn.org/1.6/modules/generated/sklearn.linear_model.Lasso.html\">?<span>Documentation for Lasso</span></a><span class=\"sk-estimator-doc-link fitted\">i<span>Fitted</span></span></div></label><div class=\"sk-toggleable__content fitted\"><pre>Lasso(alpha=0.001, max_iter=500, random_state=42)</pre></div> </div></div></div></div>"
      ],
      "text/plain": [
       "Lasso(alpha=0.001, max_iter=500, random_state=42)"
      ]
     },
     "execution_count": 18,
     "metadata": {},
     "output_type": "execute_result"
    }
   ],
   "source": [
    "best_estimator.regressor_.named_steps['model']"
   ]
  },
  {
   "cell_type": "markdown",
   "id": "ab5ed930",
   "metadata": {},
   "source": [
    "### Function of Feature Seleciton"
   ]
  },
  {
   "cell_type": "code",
   "execution_count": 19,
   "id": "081a6df5",
   "metadata": {},
   "outputs": [],
   "source": [
    "def feature_selection(best_estimator):\n",
    "    print(\"\\n=== Feature Selection Analysis ===\")\n",
    "    \n",
    "    lasso_linear_model = best_estimator.regressor_.named_steps['model']\n",
    "    coefficients = lasso_linear_model.coef_\n",
    "    \n",
    "    selected_features = np.where(coefficients != 0)[0]\n",
    "    features_removed = len(coefficients) - len(selected_features)\n",
    "    reduction_ratio = len(coefficients) / len(selected_features)\n",
    "\n",
    "    print(f\"Model: {type(lasso_linear_model).__name__}\")\n",
    "    print(f\"Selected Features by Lasso: {len(selected_features)} / {len(coefficients)} ({len(selected_features)/220*100:.1f}%)\")  \n",
    "    print(f\"Model Simplification: Removed {features_removed} features → {reduction_ratio:.1f}x compression\")    \n",
    "    return selected_features, lasso_linear_model\n",
    "\n",
    "def feature_selection_performance(selected_features, best_estimator, lasso_linear_model, df_results, \n",
    "                             preprocessor, X_train, y_train, X_valid, y_valid):\n",
    "    print(\"\\n=== Model Performance After Feature Selection ===\") \n",
    "\n",
    "    # Create pipeline with feature selection\n",
    "    lasso = best_estimator.regressor_.named_steps['model']\n",
    "    feature_selector = SelectFromModel(lasso_linear_model, prefit=False)\n",
    "    \n",
    "    production_pipeline = Pipeline([\n",
    "        ('preprocessor', preprocessor),\n",
    "        ('feature_selection', feature_selector),\n",
    "        ('model', lasso)  \n",
    "    ])\n",
    "\n",
    "    final_pipeline = TransformedTargetRegressor(\n",
    "        regressor=production_pipeline,\n",
    "        func=np.log1p,\n",
    "        inverse_func=np.expm1\n",
    "    )\n",
    "    \n",
    "    final_pipeline.fit(X_train, y_train)\n",
    "    \n",
    "    # Prediction and Compare with original Lasso mae, R²\n",
    "    selected_y_valid_pred = final_pipeline.predict(X_valid)\n",
    "    selected_r2 = final_pipeline.score(X_valid, y_valid)\n",
    "    selected_mae = mean_absolute_error(y_valid, selected_y_valid_pred)\n",
    "\n",
    "    original_r2 = df_results[df_results['Model'] == 'Lasso']['Valid_R2'].values[0]\n",
    "    original_mae = df_results[df_results['Model'] == 'Lasso']['Valid_MAE'].values[0]\n",
    "\n",
    "    retention = selected_r2 / original_r2 * 100\n",
    "    score_change = selected_r2 - original_r2\n",
    "\n",
    "    # Feature selection stats\n",
    "    original_features_count = df_results[df_results['Model'] == 'Lasso']['Numbers_of_features'].values[0]\n",
    "    selected_count = len(selected_features)\n",
    "    features_removed = original_features_count - selected_count\n",
    "\n",
    "    performance_retention = selected_r2 / original_r2 * 100\n",
    "    score_change = selected_r2 - original_r2\n",
    "\n",
    "    print(f\"R² Before Feature Selection: {original_r2:.4f}\")\n",
    "    print(f\"R² After Feature Selection:  {selected_r2:.4f}\")\n",
    "    print(f\"Performance Retention: {retention:.1f}%\")\n",
    "    print(f\"Score Change: {score_change:+.4f}\")\n",
    "\n",
    "    print(f\"\\nMAE Before Selection: {original_mae:.2f}\")\n",
    "    print(f\"MAE After Selection: {selected_mae:.2f}\")\n",
    "    print(f\"MAE Reduction: {original_mae - selected_mae:.2f}\")\n",
    "    \n",
    "    final_model_info = {\n",
    "        'original_r2': original_r2,\n",
    "        'selected_r2': selected_r2,\n",
    "        'original_mae': original_mae,\n",
    "        'selected_mae': selected_mae,\n",
    "        'score_change': score_change,\n",
    "        'performance_retention': performance_retention,\n",
    "        'features_removed': features_removed,\n",
    "        'pipeline': final_pipeline\n",
    "    }\n",
    "\n",
    "    return final_model_info"
   ]
  },
  {
   "cell_type": "markdown",
   "id": "e20b89bc",
   "metadata": {},
   "source": [
    "### Function of Visualization of Feature Selection"
   ]
  },
  {
   "cell_type": "code",
   "execution_count": 20,
   "id": "6f27e1bd",
   "metadata": {},
   "outputs": [],
   "source": [
    "def plot_before_after_performance(final_model_info):\n",
    "        fig = make_subplots(\n",
    "        rows=1, cols=2,\n",
    "        subplot_titles=(\"MAE Before vs After\", \"R² Before vs After\")\n",
    "    )\n",
    "\n",
    "        # MAE Plot\n",
    "        fig.add_trace(\n",
    "            go.Bar(\n",
    "                x=[\"Before\", \"After\"],\n",
    "                y=[final_model_info['original_mae'], final_model_info['selected_mae']],\n",
    "                marker_color=[\"#8ecae6\", \"#219ebc\"],\n",
    "                text=[f\"{final_model_info['original_mae']:.0f}\", f\"{final_model_info['selected_mae']:.0f}\"],\n",
    "                textposition=\"auto\",\n",
    "                name=\"MAE\"\n",
    "            ),\n",
    "            row=1, col=1\n",
    "        )\n",
    "\n",
    "        # R² Plot\n",
    "        fig.add_trace(\n",
    "            go.Bar(\n",
    "                x=[\"Before\", \"After\"],\n",
    "                y=[final_model_info['original_r2'], final_model_info['selected_r2']],\n",
    "                marker_color=[\"#ffb703\", \"#fb8500\"],\n",
    "                text=[f\"{final_model_info['original_r2']:.4f}\", f\"{final_model_info['selected_r2']:.4f}\"],\n",
    "                textposition=\"auto\",\n",
    "                name=\"R²\"\n",
    "            ),\n",
    "            row=1, col=2\n",
    "        )\n",
    "\n",
    "        fig.update_layout(\n",
    "            height=500, width=1000,\n",
    "            title_text=\"Model Performance Before vs After Feature Selection\",\n",
    "            showlegend=False\n",
    "        )\n",
    "\n",
    "        fig.update_yaxes(title_text=\"MAE\", row=1, col=1)\n",
    "        fig.update_yaxes(title_text=\"R²\", row=1, col=2)\n",
    "\n",
    "        fig.write_image(\"../images/Model/model_performance_before_after_feature_selection.png\", scale=2)\n",
    "        fig.show()\n",
    "\n",
    "\n",
    "def plot_top_features(lasso_linear_model, top_n, feature_names=None):\n",
    "    print(f\"\\n=== Top {top_n} Feature Importance Visualization ===\")\n",
    "    \n",
    "    coefficients = lasso_linear_model.coef_\n",
    "    selected_indices = np.where(coefficients != 0)[0]\n",
    "    selected_coefs = coefficients[selected_indices]\n",
    "    \n",
    "    importance_order = np.argsort(-np.abs(selected_coefs))\n",
    "    top_indices = importance_order[:top_n]\n",
    "    top_coefs = selected_coefs[top_indices]\n",
    "    \n",
    "    if feature_names is not None:\n",
    "        try:\n",
    "            top_feature_names = [feature_names[selected_indices[idx]] for idx in top_indices]\n",
    "        except IndexError:\n",
    "            top_feature_names = [f'Feature_{selected_indices[idx]}' for idx in top_indices]\n",
    "    else:\n",
    "        top_feature_names = [f'Feature_{selected_indices[idx]}' for idx in top_indices]\n",
    "    \n",
    "    colors = ['steelblue' if coef > 0 else 'lightcoral' for coef in top_coefs]\n",
    "    \n",
    "    fig = go.Figure()\n",
    "    \n",
    "    fig.add_trace(go.Bar(\n",
    "        y=top_feature_names,\n",
    "        x=top_coefs,\n",
    "        orientation='h',\n",
    "        marker=dict(\n",
    "            color=colors,\n",
    "            opacity=0.7,\n",
    "            line=dict(color='black', width=0.5)\n",
    "        ),\n",
    "        text=[f'{coef:.3f}' for coef in top_coefs],\n",
    "        textposition='outside',\n",
    "        textfont=dict(size=10),\n",
    "        hovertemplate='<b>%{y}</b><br>' +\n",
    "                      'Coefficient: %{x:.4f}<br>' +\n",
    "                      '<extra></extra>',\n",
    "        showlegend=False\n",
    "    ))\n",
    "    \n",
    "    fig.add_vline(x=0, line_dash=\"solid\", line_color=\"black\", \n",
    "                  opacity=0.3, line_width=1)\n",
    "    \n",
    "    fig.update_layout(\n",
    "        title=dict(\n",
    "            text=f'Top {top_n} Features',\n",
    "            font=dict(size=16, family=\"Arial Black\"),\n",
    "            xanchor='center',\n",
    "            x = 0.5\n",
    "        ),\n",
    "        xaxis=dict(\n",
    "            title='Lasso Coefficient',\n",
    "            tickfont=dict(size=12),\n",
    "            showgrid=True,\n",
    "            gridwidth=1,\n",
    "            gridcolor='rgba(128,128,128,0.3)'\n",
    "        ),\n",
    "        yaxis=dict(\n",
    "            title='Features',\n",
    "            tickfont=dict(size=10),\n",
    "            autorange=\"reversed\"  \n",
    "        ),\n",
    "\n",
    "        margin=dict(l=200, r=50, t=80, b=50),  # 調整邊距以容納長特徵名稱\n",
    "        plot_bgcolor='white',\n",
    "        paper_bgcolor='white'\n",
    "    )\n",
    "    \n",
    "    fig.write_image(\"../images/Model/top20_features_from_lasso.png\", scale=2)\n",
    "    fig.show()"
   ]
  },
  {
   "cell_type": "code",
   "execution_count": 34,
   "id": "57daac2b",
   "metadata": {},
   "outputs": [
    {
     "name": "stdout",
     "output_type": "stream",
     "text": [
      "\n",
      "=== Feature Selection Analysis ===\n",
      "Model: Lasso\n",
      "Selected Features by Lasso: 76 / 220 (34.5%)\n",
      "Model Simplification: Removed 144 features → 2.9x compression\n",
      "\n",
      "=== Model Performance After Feature Selection ===\n",
      "R² Before Feature Selection: 0.9120\n",
      "R² After Feature Selection:  0.9120\n",
      "Performance Retention: 100.0%\n",
      "Score Change: -0.0000\n",
      "\n",
      "MAE Before Selection: 17139.27\n",
      "MAE After Selection: 17139.19\n",
      "MAE Reduction: 0.08\n"
     ]
    }
   ],
   "source": [
    "selected_features, lasso_linear_model = feature_selection(best_estimator)\n",
    "\n",
    "final_model_info = feature_selection_performance(\n",
    "    selected_features,      \n",
    "    best_estimator,         \n",
    "    lasso_linear_model,          \n",
    "    df_results,            \n",
    "    preprocessor,          \n",
    "    X_train, y_train, X_valid, y_valid\n",
    ")"
   ]
  },
  {
   "cell_type": "code",
   "execution_count": 35,
   "id": "77f1375d",
   "metadata": {},
   "outputs": [
    {
     "data": {
      "application/vnd.plotly.v1+json": {
       "config": {
        "plotlyServerURL": "https://plot.ly"
       },
       "data": [
        {
         "marker": {
          "color": [
           "#8ecae6",
           "#219ebc"
          ]
         },
         "name": "MAE",
         "text": [
          "17139",
          "17139"
         ],
         "textposition": "auto",
         "type": "bar",
         "x": [
          "Before",
          "After"
         ],
         "xaxis": "x",
         "y": [
          17139.267529669276,
          17139.18849952431
         ],
         "yaxis": "y"
        },
        {
         "marker": {
          "color": [
           "#ffb703",
           "#fb8500"
          ]
         },
         "name": "R²",
         "text": [
          "0.9120",
          "0.9120"
         ],
         "textposition": "auto",
         "type": "bar",
         "x": [
          "Before",
          "After"
         ],
         "xaxis": "x2",
         "y": [
          0.911962603071603,
          0.9119599884398266
         ],
         "yaxis": "y2"
        }
       ],
       "layout": {
        "annotations": [
         {
          "font": {
           "size": 16
          },
          "showarrow": false,
          "text": "MAE Before vs After",
          "x": 0.225,
          "xanchor": "center",
          "xref": "paper",
          "y": 1,
          "yanchor": "bottom",
          "yref": "paper"
         },
         {
          "font": {
           "size": 16
          },
          "showarrow": false,
          "text": "R² Before vs After",
          "x": 0.775,
          "xanchor": "center",
          "xref": "paper",
          "y": 1,
          "yanchor": "bottom",
          "yref": "paper"
         }
        ],
        "height": 500,
        "showlegend": false,
        "template": {
         "data": {
          "bar": [
           {
            "error_x": {
             "color": "#2a3f5f"
            },
            "error_y": {
             "color": "#2a3f5f"
            },
            "marker": {
             "line": {
              "color": "#E5ECF6",
              "width": 0.5
             },
             "pattern": {
              "fillmode": "overlay",
              "size": 10,
              "solidity": 0.2
             }
            },
            "type": "bar"
           }
          ],
          "barpolar": [
           {
            "marker": {
             "line": {
              "color": "#E5ECF6",
              "width": 0.5
             },
             "pattern": {
              "fillmode": "overlay",
              "size": 10,
              "solidity": 0.2
             }
            },
            "type": "barpolar"
           }
          ],
          "carpet": [
           {
            "aaxis": {
             "endlinecolor": "#2a3f5f",
             "gridcolor": "white",
             "linecolor": "white",
             "minorgridcolor": "white",
             "startlinecolor": "#2a3f5f"
            },
            "baxis": {
             "endlinecolor": "#2a3f5f",
             "gridcolor": "white",
             "linecolor": "white",
             "minorgridcolor": "white",
             "startlinecolor": "#2a3f5f"
            },
            "type": "carpet"
           }
          ],
          "choropleth": [
           {
            "colorbar": {
             "outlinewidth": 0,
             "ticks": ""
            },
            "type": "choropleth"
           }
          ],
          "contour": [
           {
            "colorbar": {
             "outlinewidth": 0,
             "ticks": ""
            },
            "colorscale": [
             [
              0,
              "#0d0887"
             ],
             [
              0.1111111111111111,
              "#46039f"
             ],
             [
              0.2222222222222222,
              "#7201a8"
             ],
             [
              0.3333333333333333,
              "#9c179e"
             ],
             [
              0.4444444444444444,
              "#bd3786"
             ],
             [
              0.5555555555555556,
              "#d8576b"
             ],
             [
              0.6666666666666666,
              "#ed7953"
             ],
             [
              0.7777777777777778,
              "#fb9f3a"
             ],
             [
              0.8888888888888888,
              "#fdca26"
             ],
             [
              1,
              "#f0f921"
             ]
            ],
            "type": "contour"
           }
          ],
          "contourcarpet": [
           {
            "colorbar": {
             "outlinewidth": 0,
             "ticks": ""
            },
            "type": "contourcarpet"
           }
          ],
          "heatmap": [
           {
            "colorbar": {
             "outlinewidth": 0,
             "ticks": ""
            },
            "colorscale": [
             [
              0,
              "#0d0887"
             ],
             [
              0.1111111111111111,
              "#46039f"
             ],
             [
              0.2222222222222222,
              "#7201a8"
             ],
             [
              0.3333333333333333,
              "#9c179e"
             ],
             [
              0.4444444444444444,
              "#bd3786"
             ],
             [
              0.5555555555555556,
              "#d8576b"
             ],
             [
              0.6666666666666666,
              "#ed7953"
             ],
             [
              0.7777777777777778,
              "#fb9f3a"
             ],
             [
              0.8888888888888888,
              "#fdca26"
             ],
             [
              1,
              "#f0f921"
             ]
            ],
            "type": "heatmap"
           }
          ],
          "histogram": [
           {
            "marker": {
             "pattern": {
              "fillmode": "overlay",
              "size": 10,
              "solidity": 0.2
             }
            },
            "type": "histogram"
           }
          ],
          "histogram2d": [
           {
            "colorbar": {
             "outlinewidth": 0,
             "ticks": ""
            },
            "colorscale": [
             [
              0,
              "#0d0887"
             ],
             [
              0.1111111111111111,
              "#46039f"
             ],
             [
              0.2222222222222222,
              "#7201a8"
             ],
             [
              0.3333333333333333,
              "#9c179e"
             ],
             [
              0.4444444444444444,
              "#bd3786"
             ],
             [
              0.5555555555555556,
              "#d8576b"
             ],
             [
              0.6666666666666666,
              "#ed7953"
             ],
             [
              0.7777777777777778,
              "#fb9f3a"
             ],
             [
              0.8888888888888888,
              "#fdca26"
             ],
             [
              1,
              "#f0f921"
             ]
            ],
            "type": "histogram2d"
           }
          ],
          "histogram2dcontour": [
           {
            "colorbar": {
             "outlinewidth": 0,
             "ticks": ""
            },
            "colorscale": [
             [
              0,
              "#0d0887"
             ],
             [
              0.1111111111111111,
              "#46039f"
             ],
             [
              0.2222222222222222,
              "#7201a8"
             ],
             [
              0.3333333333333333,
              "#9c179e"
             ],
             [
              0.4444444444444444,
              "#bd3786"
             ],
             [
              0.5555555555555556,
              "#d8576b"
             ],
             [
              0.6666666666666666,
              "#ed7953"
             ],
             [
              0.7777777777777778,
              "#fb9f3a"
             ],
             [
              0.8888888888888888,
              "#fdca26"
             ],
             [
              1,
              "#f0f921"
             ]
            ],
            "type": "histogram2dcontour"
           }
          ],
          "mesh3d": [
           {
            "colorbar": {
             "outlinewidth": 0,
             "ticks": ""
            },
            "type": "mesh3d"
           }
          ],
          "parcoords": [
           {
            "line": {
             "colorbar": {
              "outlinewidth": 0,
              "ticks": ""
             }
            },
            "type": "parcoords"
           }
          ],
          "pie": [
           {
            "automargin": true,
            "type": "pie"
           }
          ],
          "scatter": [
           {
            "fillpattern": {
             "fillmode": "overlay",
             "size": 10,
             "solidity": 0.2
            },
            "type": "scatter"
           }
          ],
          "scatter3d": [
           {
            "line": {
             "colorbar": {
              "outlinewidth": 0,
              "ticks": ""
             }
            },
            "marker": {
             "colorbar": {
              "outlinewidth": 0,
              "ticks": ""
             }
            },
            "type": "scatter3d"
           }
          ],
          "scattercarpet": [
           {
            "marker": {
             "colorbar": {
              "outlinewidth": 0,
              "ticks": ""
             }
            },
            "type": "scattercarpet"
           }
          ],
          "scattergeo": [
           {
            "marker": {
             "colorbar": {
              "outlinewidth": 0,
              "ticks": ""
             }
            },
            "type": "scattergeo"
           }
          ],
          "scattergl": [
           {
            "marker": {
             "colorbar": {
              "outlinewidth": 0,
              "ticks": ""
             }
            },
            "type": "scattergl"
           }
          ],
          "scattermap": [
           {
            "marker": {
             "colorbar": {
              "outlinewidth": 0,
              "ticks": ""
             }
            },
            "type": "scattermap"
           }
          ],
          "scattermapbox": [
           {
            "marker": {
             "colorbar": {
              "outlinewidth": 0,
              "ticks": ""
             }
            },
            "type": "scattermapbox"
           }
          ],
          "scatterpolar": [
           {
            "marker": {
             "colorbar": {
              "outlinewidth": 0,
              "ticks": ""
             }
            },
            "type": "scatterpolar"
           }
          ],
          "scatterpolargl": [
           {
            "marker": {
             "colorbar": {
              "outlinewidth": 0,
              "ticks": ""
             }
            },
            "type": "scatterpolargl"
           }
          ],
          "scatterternary": [
           {
            "marker": {
             "colorbar": {
              "outlinewidth": 0,
              "ticks": ""
             }
            },
            "type": "scatterternary"
           }
          ],
          "surface": [
           {
            "colorbar": {
             "outlinewidth": 0,
             "ticks": ""
            },
            "colorscale": [
             [
              0,
              "#0d0887"
             ],
             [
              0.1111111111111111,
              "#46039f"
             ],
             [
              0.2222222222222222,
              "#7201a8"
             ],
             [
              0.3333333333333333,
              "#9c179e"
             ],
             [
              0.4444444444444444,
              "#bd3786"
             ],
             [
              0.5555555555555556,
              "#d8576b"
             ],
             [
              0.6666666666666666,
              "#ed7953"
             ],
             [
              0.7777777777777778,
              "#fb9f3a"
             ],
             [
              0.8888888888888888,
              "#fdca26"
             ],
             [
              1,
              "#f0f921"
             ]
            ],
            "type": "surface"
           }
          ],
          "table": [
           {
            "cells": {
             "fill": {
              "color": "#EBF0F8"
             },
             "line": {
              "color": "white"
             }
            },
            "header": {
             "fill": {
              "color": "#C8D4E3"
             },
             "line": {
              "color": "white"
             }
            },
            "type": "table"
           }
          ]
         },
         "layout": {
          "annotationdefaults": {
           "arrowcolor": "#2a3f5f",
           "arrowhead": 0,
           "arrowwidth": 1
          },
          "autotypenumbers": "strict",
          "coloraxis": {
           "colorbar": {
            "outlinewidth": 0,
            "ticks": ""
           }
          },
          "colorscale": {
           "diverging": [
            [
             0,
             "#8e0152"
            ],
            [
             0.1,
             "#c51b7d"
            ],
            [
             0.2,
             "#de77ae"
            ],
            [
             0.3,
             "#f1b6da"
            ],
            [
             0.4,
             "#fde0ef"
            ],
            [
             0.5,
             "#f7f7f7"
            ],
            [
             0.6,
             "#e6f5d0"
            ],
            [
             0.7,
             "#b8e186"
            ],
            [
             0.8,
             "#7fbc41"
            ],
            [
             0.9,
             "#4d9221"
            ],
            [
             1,
             "#276419"
            ]
           ],
           "sequential": [
            [
             0,
             "#0d0887"
            ],
            [
             0.1111111111111111,
             "#46039f"
            ],
            [
             0.2222222222222222,
             "#7201a8"
            ],
            [
             0.3333333333333333,
             "#9c179e"
            ],
            [
             0.4444444444444444,
             "#bd3786"
            ],
            [
             0.5555555555555556,
             "#d8576b"
            ],
            [
             0.6666666666666666,
             "#ed7953"
            ],
            [
             0.7777777777777778,
             "#fb9f3a"
            ],
            [
             0.8888888888888888,
             "#fdca26"
            ],
            [
             1,
             "#f0f921"
            ]
           ],
           "sequentialminus": [
            [
             0,
             "#0d0887"
            ],
            [
             0.1111111111111111,
             "#46039f"
            ],
            [
             0.2222222222222222,
             "#7201a8"
            ],
            [
             0.3333333333333333,
             "#9c179e"
            ],
            [
             0.4444444444444444,
             "#bd3786"
            ],
            [
             0.5555555555555556,
             "#d8576b"
            ],
            [
             0.6666666666666666,
             "#ed7953"
            ],
            [
             0.7777777777777778,
             "#fb9f3a"
            ],
            [
             0.8888888888888888,
             "#fdca26"
            ],
            [
             1,
             "#f0f921"
            ]
           ]
          },
          "colorway": [
           "#636efa",
           "#EF553B",
           "#00cc96",
           "#ab63fa",
           "#FFA15A",
           "#19d3f3",
           "#FF6692",
           "#B6E880",
           "#FF97FF",
           "#FECB52"
          ],
          "font": {
           "color": "#2a3f5f"
          },
          "geo": {
           "bgcolor": "white",
           "lakecolor": "white",
           "landcolor": "#E5ECF6",
           "showlakes": true,
           "showland": true,
           "subunitcolor": "white"
          },
          "hoverlabel": {
           "align": "left"
          },
          "hovermode": "closest",
          "mapbox": {
           "style": "light"
          },
          "paper_bgcolor": "white",
          "plot_bgcolor": "#E5ECF6",
          "polar": {
           "angularaxis": {
            "gridcolor": "white",
            "linecolor": "white",
            "ticks": ""
           },
           "bgcolor": "#E5ECF6",
           "radialaxis": {
            "gridcolor": "white",
            "linecolor": "white",
            "ticks": ""
           }
          },
          "scene": {
           "xaxis": {
            "backgroundcolor": "#E5ECF6",
            "gridcolor": "white",
            "gridwidth": 2,
            "linecolor": "white",
            "showbackground": true,
            "ticks": "",
            "zerolinecolor": "white"
           },
           "yaxis": {
            "backgroundcolor": "#E5ECF6",
            "gridcolor": "white",
            "gridwidth": 2,
            "linecolor": "white",
            "showbackground": true,
            "ticks": "",
            "zerolinecolor": "white"
           },
           "zaxis": {
            "backgroundcolor": "#E5ECF6",
            "gridcolor": "white",
            "gridwidth": 2,
            "linecolor": "white",
            "showbackground": true,
            "ticks": "",
            "zerolinecolor": "white"
           }
          },
          "shapedefaults": {
           "line": {
            "color": "#2a3f5f"
           }
          },
          "ternary": {
           "aaxis": {
            "gridcolor": "white",
            "linecolor": "white",
            "ticks": ""
           },
           "baxis": {
            "gridcolor": "white",
            "linecolor": "white",
            "ticks": ""
           },
           "bgcolor": "#E5ECF6",
           "caxis": {
            "gridcolor": "white",
            "linecolor": "white",
            "ticks": ""
           }
          },
          "title": {
           "x": 0.05
          },
          "xaxis": {
           "automargin": true,
           "gridcolor": "white",
           "linecolor": "white",
           "ticks": "",
           "title": {
            "standoff": 15
           },
           "zerolinecolor": "white",
           "zerolinewidth": 2
          },
          "yaxis": {
           "automargin": true,
           "gridcolor": "white",
           "linecolor": "white",
           "ticks": "",
           "title": {
            "standoff": 15
           },
           "zerolinecolor": "white",
           "zerolinewidth": 2
          }
         }
        },
        "title": {
         "text": "Model Performance Before vs After Feature Selection"
        },
        "width": 1000,
        "xaxis": {
         "anchor": "y",
         "domain": [
          0,
          0.45
         ]
        },
        "xaxis2": {
         "anchor": "y2",
         "domain": [
          0.55,
          1
         ]
        },
        "yaxis": {
         "anchor": "x",
         "domain": [
          0,
          1
         ],
         "title": {
          "text": "MAE"
         }
        },
        "yaxis2": {
         "anchor": "x2",
         "domain": [
          0,
          1
         ],
         "title": {
          "text": "R²"
         }
        }
       }
      }
     },
     "metadata": {},
     "output_type": "display_data"
    }
   ],
   "source": [
    "plot_before_after_performance(final_model_info)"
   ]
  },
  {
   "cell_type": "code",
   "execution_count": 38,
   "id": "0f26415d",
   "metadata": {},
   "outputs": [],
   "source": [
    "import json\n",
    "\n",
    "# 濾除無法轉為 JSON 的物件（如 pipeline）\n",
    "final_model_info_json = {\n",
    "    \"original_r2\": float(final_model_info[\"original_r2\"]),\n",
    "    \"selected_r2\": float(final_model_info[\"selected_r2\"]),\n",
    "    \"original_mae\": float(final_model_info[\"original_mae\"]),\n",
    "    \"selected_mae\": float(final_model_info[\"selected_mae\"]),\n",
    "    \"score_change\": float(final_model_info[\"score_change\"]),\n",
    "    \"performance_retention\": float(final_model_info[\"performance_retention\"]),\n",
    "    \"features_removed\": int(final_model_info[\"features_removed\"])\n",
    "}\n",
    "\n",
    "with open(\"/Users/edwina/Desktop/House_Pricing_Prediction/app/data/final_model_info.json\", \"w\") as f:\n",
    "    json.dump(final_model_info_json, f, indent=4)\n"
   ]
  },
  {
   "cell_type": "code",
   "execution_count": 22,
   "id": "22e4cd84",
   "metadata": {},
   "outputs": [
    {
     "name": "stdout",
     "output_type": "stream",
     "text": [
      "\n",
      "=== Top 20 Feature Importance Visualization ===\n"
     ]
    },
    {
     "data": {
      "application/vnd.plotly.v1+json": {
       "config": {
        "plotlyServerURL": "https://plot.ly"
       },
       "data": [
        {
         "hovertemplate": "<b>%{y}</b><br>Coefficient: %{x:.4f}<br><extra></extra>",
         "marker": {
          "color": [
           "lightcoral",
           "steelblue",
           "steelblue",
           "lightcoral",
           "lightcoral",
           "steelblue",
           "steelblue",
           "lightcoral",
           "steelblue",
           "steelblue",
           "steelblue",
           "lightcoral",
           "steelblue",
           "steelblue",
           "steelblue",
           "lightcoral",
           "lightcoral",
           "steelblue",
           "steelblue",
           "steelblue"
          ],
          "line": {
           "color": "black",
           "width": 0.5
          },
          "opacity": 0.7
         },
         "orientation": "h",
         "showlegend": false,
         "text": [
          "-0.533",
          "0.101",
          "0.091",
          "-0.065",
          "-0.062",
          "0.055",
          "0.054",
          "-0.054",
          "0.050",
          "0.047",
          "0.046",
          "-0.044",
          "0.042",
          "0.040",
          "0.039",
          "-0.037",
          "-0.037",
          "0.031",
          "0.031",
          "0.026"
         ],
         "textfont": {
          "size": 10
         },
         "textposition": "outside",
         "type": "bar",
         "x": {
          "bdata": "010+3YcP4b+irLDUG/O5P4VNadE1Prc/OITnqe+6sL8Q8Rzsyv6vv2fBdTXTZaw/1l9TFVyxqz86cpy3p4irv1zaOeqIwKk/FElvAefZpz9IlromjE6nP8HM8UV1Wqa/Q3lrCtW8pT9Sx3vPuGikP2SZpojSFaQ/6jLBa+Ago79gCk9ZUe2iv4thGmmWxJ8/ShqmLbGGnz/woefiRUGaPw==",
          "dtype": "f8"
         },
         "y": [
          "cat__RoofMatl_ClyTile",
          "num__GrLivArea",
          "num__OverallQual",
          "cat__MSZoning_RM",
          "cat__Condition2_PosN",
          "cat__Functional_Typ",
          "cat__Condition1_Norm",
          "cat__CentralAir_N",
          "cat__BsmtQual_Ex",
          "num__GarageCars",
          "num__OverallCond",
          "cat__SaleCondition_Abnorml",
          "cat__KitchenQual_Ex",
          "num__YearBuilt",
          "cat__Foundation_PConc",
          "cat__BsmtFinType1_Unf",
          "cat__LandContour_Bnk",
          "cat__LotConfig_CulDSac",
          "cat__BsmtExposure_Gd",
          "num__BsmtFullBath"
         ]
        }
       ],
       "layout": {
        "margin": {
         "b": 50,
         "l": 200,
         "r": 50,
         "t": 80
        },
        "paper_bgcolor": "white",
        "plot_bgcolor": "white",
        "shapes": [
         {
          "line": {
           "color": "black",
           "dash": "solid",
           "width": 1
          },
          "opacity": 0.3,
          "type": "line",
          "x0": 0,
          "x1": 0,
          "xref": "x",
          "y0": 0,
          "y1": 1,
          "yref": "y domain"
         }
        ],
        "template": {
         "data": {
          "bar": [
           {
            "error_x": {
             "color": "#2a3f5f"
            },
            "error_y": {
             "color": "#2a3f5f"
            },
            "marker": {
             "line": {
              "color": "#E5ECF6",
              "width": 0.5
             },
             "pattern": {
              "fillmode": "overlay",
              "size": 10,
              "solidity": 0.2
             }
            },
            "type": "bar"
           }
          ],
          "barpolar": [
           {
            "marker": {
             "line": {
              "color": "#E5ECF6",
              "width": 0.5
             },
             "pattern": {
              "fillmode": "overlay",
              "size": 10,
              "solidity": 0.2
             }
            },
            "type": "barpolar"
           }
          ],
          "carpet": [
           {
            "aaxis": {
             "endlinecolor": "#2a3f5f",
             "gridcolor": "white",
             "linecolor": "white",
             "minorgridcolor": "white",
             "startlinecolor": "#2a3f5f"
            },
            "baxis": {
             "endlinecolor": "#2a3f5f",
             "gridcolor": "white",
             "linecolor": "white",
             "minorgridcolor": "white",
             "startlinecolor": "#2a3f5f"
            },
            "type": "carpet"
           }
          ],
          "choropleth": [
           {
            "colorbar": {
             "outlinewidth": 0,
             "ticks": ""
            },
            "type": "choropleth"
           }
          ],
          "contour": [
           {
            "colorbar": {
             "outlinewidth": 0,
             "ticks": ""
            },
            "colorscale": [
             [
              0,
              "#0d0887"
             ],
             [
              0.1111111111111111,
              "#46039f"
             ],
             [
              0.2222222222222222,
              "#7201a8"
             ],
             [
              0.3333333333333333,
              "#9c179e"
             ],
             [
              0.4444444444444444,
              "#bd3786"
             ],
             [
              0.5555555555555556,
              "#d8576b"
             ],
             [
              0.6666666666666666,
              "#ed7953"
             ],
             [
              0.7777777777777778,
              "#fb9f3a"
             ],
             [
              0.8888888888888888,
              "#fdca26"
             ],
             [
              1,
              "#f0f921"
             ]
            ],
            "type": "contour"
           }
          ],
          "contourcarpet": [
           {
            "colorbar": {
             "outlinewidth": 0,
             "ticks": ""
            },
            "type": "contourcarpet"
           }
          ],
          "heatmap": [
           {
            "colorbar": {
             "outlinewidth": 0,
             "ticks": ""
            },
            "colorscale": [
             [
              0,
              "#0d0887"
             ],
             [
              0.1111111111111111,
              "#46039f"
             ],
             [
              0.2222222222222222,
              "#7201a8"
             ],
             [
              0.3333333333333333,
              "#9c179e"
             ],
             [
              0.4444444444444444,
              "#bd3786"
             ],
             [
              0.5555555555555556,
              "#d8576b"
             ],
             [
              0.6666666666666666,
              "#ed7953"
             ],
             [
              0.7777777777777778,
              "#fb9f3a"
             ],
             [
              0.8888888888888888,
              "#fdca26"
             ],
             [
              1,
              "#f0f921"
             ]
            ],
            "type": "heatmap"
           }
          ],
          "histogram": [
           {
            "marker": {
             "pattern": {
              "fillmode": "overlay",
              "size": 10,
              "solidity": 0.2
             }
            },
            "type": "histogram"
           }
          ],
          "histogram2d": [
           {
            "colorbar": {
             "outlinewidth": 0,
             "ticks": ""
            },
            "colorscale": [
             [
              0,
              "#0d0887"
             ],
             [
              0.1111111111111111,
              "#46039f"
             ],
             [
              0.2222222222222222,
              "#7201a8"
             ],
             [
              0.3333333333333333,
              "#9c179e"
             ],
             [
              0.4444444444444444,
              "#bd3786"
             ],
             [
              0.5555555555555556,
              "#d8576b"
             ],
             [
              0.6666666666666666,
              "#ed7953"
             ],
             [
              0.7777777777777778,
              "#fb9f3a"
             ],
             [
              0.8888888888888888,
              "#fdca26"
             ],
             [
              1,
              "#f0f921"
             ]
            ],
            "type": "histogram2d"
           }
          ],
          "histogram2dcontour": [
           {
            "colorbar": {
             "outlinewidth": 0,
             "ticks": ""
            },
            "colorscale": [
             [
              0,
              "#0d0887"
             ],
             [
              0.1111111111111111,
              "#46039f"
             ],
             [
              0.2222222222222222,
              "#7201a8"
             ],
             [
              0.3333333333333333,
              "#9c179e"
             ],
             [
              0.4444444444444444,
              "#bd3786"
             ],
             [
              0.5555555555555556,
              "#d8576b"
             ],
             [
              0.6666666666666666,
              "#ed7953"
             ],
             [
              0.7777777777777778,
              "#fb9f3a"
             ],
             [
              0.8888888888888888,
              "#fdca26"
             ],
             [
              1,
              "#f0f921"
             ]
            ],
            "type": "histogram2dcontour"
           }
          ],
          "mesh3d": [
           {
            "colorbar": {
             "outlinewidth": 0,
             "ticks": ""
            },
            "type": "mesh3d"
           }
          ],
          "parcoords": [
           {
            "line": {
             "colorbar": {
              "outlinewidth": 0,
              "ticks": ""
             }
            },
            "type": "parcoords"
           }
          ],
          "pie": [
           {
            "automargin": true,
            "type": "pie"
           }
          ],
          "scatter": [
           {
            "fillpattern": {
             "fillmode": "overlay",
             "size": 10,
             "solidity": 0.2
            },
            "type": "scatter"
           }
          ],
          "scatter3d": [
           {
            "line": {
             "colorbar": {
              "outlinewidth": 0,
              "ticks": ""
             }
            },
            "marker": {
             "colorbar": {
              "outlinewidth": 0,
              "ticks": ""
             }
            },
            "type": "scatter3d"
           }
          ],
          "scattercarpet": [
           {
            "marker": {
             "colorbar": {
              "outlinewidth": 0,
              "ticks": ""
             }
            },
            "type": "scattercarpet"
           }
          ],
          "scattergeo": [
           {
            "marker": {
             "colorbar": {
              "outlinewidth": 0,
              "ticks": ""
             }
            },
            "type": "scattergeo"
           }
          ],
          "scattergl": [
           {
            "marker": {
             "colorbar": {
              "outlinewidth": 0,
              "ticks": ""
             }
            },
            "type": "scattergl"
           }
          ],
          "scattermap": [
           {
            "marker": {
             "colorbar": {
              "outlinewidth": 0,
              "ticks": ""
             }
            },
            "type": "scattermap"
           }
          ],
          "scattermapbox": [
           {
            "marker": {
             "colorbar": {
              "outlinewidth": 0,
              "ticks": ""
             }
            },
            "type": "scattermapbox"
           }
          ],
          "scatterpolar": [
           {
            "marker": {
             "colorbar": {
              "outlinewidth": 0,
              "ticks": ""
             }
            },
            "type": "scatterpolar"
           }
          ],
          "scatterpolargl": [
           {
            "marker": {
             "colorbar": {
              "outlinewidth": 0,
              "ticks": ""
             }
            },
            "type": "scatterpolargl"
           }
          ],
          "scatterternary": [
           {
            "marker": {
             "colorbar": {
              "outlinewidth": 0,
              "ticks": ""
             }
            },
            "type": "scatterternary"
           }
          ],
          "surface": [
           {
            "colorbar": {
             "outlinewidth": 0,
             "ticks": ""
            },
            "colorscale": [
             [
              0,
              "#0d0887"
             ],
             [
              0.1111111111111111,
              "#46039f"
             ],
             [
              0.2222222222222222,
              "#7201a8"
             ],
             [
              0.3333333333333333,
              "#9c179e"
             ],
             [
              0.4444444444444444,
              "#bd3786"
             ],
             [
              0.5555555555555556,
              "#d8576b"
             ],
             [
              0.6666666666666666,
              "#ed7953"
             ],
             [
              0.7777777777777778,
              "#fb9f3a"
             ],
             [
              0.8888888888888888,
              "#fdca26"
             ],
             [
              1,
              "#f0f921"
             ]
            ],
            "type": "surface"
           }
          ],
          "table": [
           {
            "cells": {
             "fill": {
              "color": "#EBF0F8"
             },
             "line": {
              "color": "white"
             }
            },
            "header": {
             "fill": {
              "color": "#C8D4E3"
             },
             "line": {
              "color": "white"
             }
            },
            "type": "table"
           }
          ]
         },
         "layout": {
          "annotationdefaults": {
           "arrowcolor": "#2a3f5f",
           "arrowhead": 0,
           "arrowwidth": 1
          },
          "autotypenumbers": "strict",
          "coloraxis": {
           "colorbar": {
            "outlinewidth": 0,
            "ticks": ""
           }
          },
          "colorscale": {
           "diverging": [
            [
             0,
             "#8e0152"
            ],
            [
             0.1,
             "#c51b7d"
            ],
            [
             0.2,
             "#de77ae"
            ],
            [
             0.3,
             "#f1b6da"
            ],
            [
             0.4,
             "#fde0ef"
            ],
            [
             0.5,
             "#f7f7f7"
            ],
            [
             0.6,
             "#e6f5d0"
            ],
            [
             0.7,
             "#b8e186"
            ],
            [
             0.8,
             "#7fbc41"
            ],
            [
             0.9,
             "#4d9221"
            ],
            [
             1,
             "#276419"
            ]
           ],
           "sequential": [
            [
             0,
             "#0d0887"
            ],
            [
             0.1111111111111111,
             "#46039f"
            ],
            [
             0.2222222222222222,
             "#7201a8"
            ],
            [
             0.3333333333333333,
             "#9c179e"
            ],
            [
             0.4444444444444444,
             "#bd3786"
            ],
            [
             0.5555555555555556,
             "#d8576b"
            ],
            [
             0.6666666666666666,
             "#ed7953"
            ],
            [
             0.7777777777777778,
             "#fb9f3a"
            ],
            [
             0.8888888888888888,
             "#fdca26"
            ],
            [
             1,
             "#f0f921"
            ]
           ],
           "sequentialminus": [
            [
             0,
             "#0d0887"
            ],
            [
             0.1111111111111111,
             "#46039f"
            ],
            [
             0.2222222222222222,
             "#7201a8"
            ],
            [
             0.3333333333333333,
             "#9c179e"
            ],
            [
             0.4444444444444444,
             "#bd3786"
            ],
            [
             0.5555555555555556,
             "#d8576b"
            ],
            [
             0.6666666666666666,
             "#ed7953"
            ],
            [
             0.7777777777777778,
             "#fb9f3a"
            ],
            [
             0.8888888888888888,
             "#fdca26"
            ],
            [
             1,
             "#f0f921"
            ]
           ]
          },
          "colorway": [
           "#636efa",
           "#EF553B",
           "#00cc96",
           "#ab63fa",
           "#FFA15A",
           "#19d3f3",
           "#FF6692",
           "#B6E880",
           "#FF97FF",
           "#FECB52"
          ],
          "font": {
           "color": "#2a3f5f"
          },
          "geo": {
           "bgcolor": "white",
           "lakecolor": "white",
           "landcolor": "#E5ECF6",
           "showlakes": true,
           "showland": true,
           "subunitcolor": "white"
          },
          "hoverlabel": {
           "align": "left"
          },
          "hovermode": "closest",
          "mapbox": {
           "style": "light"
          },
          "paper_bgcolor": "white",
          "plot_bgcolor": "#E5ECF6",
          "polar": {
           "angularaxis": {
            "gridcolor": "white",
            "linecolor": "white",
            "ticks": ""
           },
           "bgcolor": "#E5ECF6",
           "radialaxis": {
            "gridcolor": "white",
            "linecolor": "white",
            "ticks": ""
           }
          },
          "scene": {
           "xaxis": {
            "backgroundcolor": "#E5ECF6",
            "gridcolor": "white",
            "gridwidth": 2,
            "linecolor": "white",
            "showbackground": true,
            "ticks": "",
            "zerolinecolor": "white"
           },
           "yaxis": {
            "backgroundcolor": "#E5ECF6",
            "gridcolor": "white",
            "gridwidth": 2,
            "linecolor": "white",
            "showbackground": true,
            "ticks": "",
            "zerolinecolor": "white"
           },
           "zaxis": {
            "backgroundcolor": "#E5ECF6",
            "gridcolor": "white",
            "gridwidth": 2,
            "linecolor": "white",
            "showbackground": true,
            "ticks": "",
            "zerolinecolor": "white"
           }
          },
          "shapedefaults": {
           "line": {
            "color": "#2a3f5f"
           }
          },
          "ternary": {
           "aaxis": {
            "gridcolor": "white",
            "linecolor": "white",
            "ticks": ""
           },
           "baxis": {
            "gridcolor": "white",
            "linecolor": "white",
            "ticks": ""
           },
           "bgcolor": "#E5ECF6",
           "caxis": {
            "gridcolor": "white",
            "linecolor": "white",
            "ticks": ""
           }
          },
          "title": {
           "x": 0.05
          },
          "xaxis": {
           "automargin": true,
           "gridcolor": "white",
           "linecolor": "white",
           "ticks": "",
           "title": {
            "standoff": 15
           },
           "zerolinecolor": "white",
           "zerolinewidth": 2
          },
          "yaxis": {
           "automargin": true,
           "gridcolor": "white",
           "linecolor": "white",
           "ticks": "",
           "title": {
            "standoff": 15
           },
           "zerolinecolor": "white",
           "zerolinewidth": 2
          }
         }
        },
        "title": {
         "font": {
          "family": "Arial Black",
          "size": 16
         },
         "text": "Top 20 Features",
         "x": 0.5,
         "xanchor": "center"
        },
        "xaxis": {
         "gridcolor": "rgba(128,128,128,0.3)",
         "gridwidth": 1,
         "showgrid": true,
         "tickfont": {
          "size": 12
         },
         "title": {
          "text": "Lasso Coefficient"
         }
        },
        "yaxis": {
         "autorange": "reversed",
         "tickfont": {
          "size": 10
         },
         "title": {
          "text": "Features"
         }
        }
       }
      }
     },
     "metadata": {},
     "output_type": "display_data"
    }
   ],
   "source": [
    "processed_feature_names = preprocessor.get_feature_names_out()\n",
    "plot_top_features(lasso_linear_model, 20,  \n",
    "                feature_names=processed_feature_names)"
   ]
  },
  {
   "cell_type": "code",
   "execution_count": null,
   "id": "cf43569c",
   "metadata": {},
   "outputs": [],
   "source": [
    "coef_dict = {\n",
    "    \"coef\": lasso_linear_model.coef_.tolist(),  \n",
    "    \"feature_names\": processed_feature_names.tolist()  \n",
    "}\n",
    "\n",
    "with open(\"/Users/edwina/Desktop/House_Pricing_Prediction/app/data/lasso_top_feature_info.json\", \"w\") as f:\n",
    "    json.dump(coef_dict, f)\n",
    "    "
   ]
  },
  {
   "cell_type": "markdown",
   "id": "668b6428",
   "metadata": {},
   "source": [
    "## 🧠 Top 20 Features Insights from Lasso Regression\n",
    "- RoofMatl_ClyTile has the largest absolute coefficient and a strong negative impact on house prices.\n",
    "⟶ Homes with clay tile roofing are significantly associated with lower sale prices.\n",
    "📉 This may reflect either outdated style or correlation with lower-quality neighborhoods.\n",
    "\n",
    "- GrLivArea (Above-ground living area) and OverallQual (Overall material and finish quality) are the second and third most influential features, both showing positive effects.\n",
    "⟶ Larger living space and better construction quality lead to higher house prices.\n",
    "\n",
    "- Most numerical features (e.g., GrLivArea, GarageCars, YearBuilt) have positive coefficients, indicating that house size and recency are key drivers of value.\n",
    "⟶ Newer, more spacious homes are generally priced higher."
   ]
  },
  {
   "cell_type": "markdown",
   "id": "af12dd5f",
   "metadata": {},
   "source": [
    "# ✅ Final Model Summary\n",
    "\n",
    "| Index | Value |\n",
    "|------|------|\n",
    "| Final Model | Lasso Regression |\n",
    "| Feature Selection | Lasso + SelectFromModel |\n",
    "| Features Retained | 76 / 220 (34.5%) |\n",
    "| R² (Validation) | 0.9120 |\n",
    "| MAE (Validation) | 17139 |\n",
    "| Performance Retention | 100% |\n",
    "| Compression Ratio | 2.9x |"
   ]
  },
  {
   "cell_type": "markdown",
   "id": "2394286e",
   "metadata": {},
   "source": [
    "# Test Model"
   ]
  },
  {
   "cell_type": "code",
   "execution_count": 23,
   "id": "6c6c1c7c",
   "metadata": {},
   "outputs": [
    {
     "name": "stdout",
     "output_type": "stream",
     "text": [
      "Top 10 of predicitons:\n",
      "     Id      SalePrice\n",
      "0  1461  113597.516062\n",
      "1  1462  145754.535567\n",
      "2  1463  171145.071338\n",
      "3  1464  196892.679132\n",
      "4  1465  190732.685769\n",
      "5  1466  172999.940230\n",
      "6  1467  189784.894818\n",
      "7  1468  167246.643341\n",
      "8  1469  197251.393433\n",
      "9  1470  118329.247802\n"
     ]
    }
   ],
   "source": [
    "# Read test data\n",
    "test_full_raw = pd.read_csv('/Users/edwina/Desktop/House_Pricing_Prediction/data/test.csv', index_col='Id')\n",
    "\n",
    "final_model = final_model_info['pipeline']\n",
    "test_predictions = final_model.predict(test_full_raw)\n",
    "\n",
    "submission = pd.DataFrame({\n",
    "    'Id': test_full_raw.index,\n",
    "    'SalePrice': test_predictions\n",
    "})\n",
    "\n",
    "print(f\"Top 10 of predicitons:\")\n",
    "print(submission.head(10))\n",
    "# submission.to_csv('submission.csv', index=False)"
   ]
  }
 ],
 "metadata": {
  "kernelspec": {
   "display_name": "house_pricing",
   "language": "python",
   "name": "python3"
  },
  "language_info": {
   "codemirror_mode": {
    "name": "ipython",
    "version": 3
   },
   "file_extension": ".py",
   "mimetype": "text/x-python",
   "name": "python",
   "nbconvert_exporter": "python",
   "pygments_lexer": "ipython3",
   "version": "3.12.11"
  }
 },
 "nbformat": 4,
 "nbformat_minor": 5
}
